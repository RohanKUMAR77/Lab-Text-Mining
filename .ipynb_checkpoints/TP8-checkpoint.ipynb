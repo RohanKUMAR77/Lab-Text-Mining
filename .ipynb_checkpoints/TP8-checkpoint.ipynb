{
 "cells": [
  {
   "cell_type": "code",
   "execution_count": 2,
   "id": "85902411",
   "metadata": {},
   "outputs": [
    {
     "name": "stderr",
     "output_type": "stream",
     "text": [
      "[nltk_data] Downloading package stopwords to\n",
      "[nltk_data]     C:\\Users\\rohan\\AppData\\Roaming\\nltk_data...\n",
      "[nltk_data]   Unzipping corpora\\stopwords.zip.\n",
      "[nltk_data] Downloading package gutenberg to\n",
      "[nltk_data]     C:\\Users\\rohan\\AppData\\Roaming\\nltk_data...\n",
      "[nltk_data]   Unzipping corpora\\gutenberg.zip.\n"
     ]
    }
   ],
   "source": [
    "#On importe les librairies nécessaires \n",
    "import nltk\n",
    "\n",
    "nltk.download ('stopwords')\n",
    "from nltk.corpus import stopwords\n",
    "\n",
    "nltk.download ('gutenberg')\n",
    "from nltk.corpus import gutenberg\n",
    "\n"
   ]
  },
  {
   "cell_type": "markdown",
   "id": "31e44c01",
   "metadata": {},
   "source": [
    "## Partie A"
   ]
  },
  {
   "cell_type": "markdown",
   "id": "147bb43c",
   "metadata": {},
   "source": [
    "#### 2)"
   ]
  },
  {
   "cell_type": "code",
   "execution_count": 7,
   "id": "c728c357",
   "metadata": {},
   "outputs": [
    {
     "name": "stdout",
     "output_type": "stream",
     "text": [
      "['i', 'me', 'my', 'myself', 'we', 'our', 'ours', 'ourselves', 'you', \"you're\", \"you've\", \"you'll\", \"you'd\", 'your', 'yours', 'yourself', 'yourselves', 'he', 'him', 'his', 'himself', 'she', \"she's\", 'her', 'hers', 'herself', 'it', \"it's\", 'its', 'itself', 'they', 'them', 'their', 'theirs', 'themselves', 'what', 'which', 'who', 'whom', 'this', 'that', \"that'll\", 'these', 'those', 'am', 'is', 'are', 'was', 'were', 'be', 'been', 'being', 'have', 'has', 'had', 'having', 'do', 'does', 'did', 'doing', 'a', 'an', 'the', 'and', 'but', 'if', 'or', 'because', 'as', 'until', 'while', 'of', 'at', 'by', 'for', 'with', 'about', 'against', 'between', 'into', 'through', 'during', 'before', 'after', 'above', 'below', 'to', 'from', 'up', 'down', 'in', 'out', 'on', 'off', 'over', 'under', 'again', 'further', 'then', 'once', 'here', 'there', 'when', 'where', 'why', 'how', 'all', 'any', 'both', 'each', 'few', 'more', 'most', 'other', 'some', 'such', 'no', 'nor', 'not', 'only', 'own', 'same', 'so', 'than', 'too', 'very', 's', 't', 'can', 'will', 'just', 'don', \"don't\", 'should', \"should've\", 'now', 'd', 'll', 'm', 'o', 're', 've', 'y', 'ain', 'aren', \"aren't\", 'couldn', \"couldn't\", 'didn', \"didn't\", 'doesn', \"doesn't\", 'hadn', \"hadn't\", 'hasn', \"hasn't\", 'haven', \"haven't\", 'isn', \"isn't\", 'ma', 'mightn', \"mightn't\", 'mustn', \"mustn't\", 'needn', \"needn't\", 'shan', \"shan't\", 'shouldn', \"shouldn't\", 'wasn', \"wasn't\", 'weren', \"weren't\", 'won', \"won't\", 'wouldn', \"wouldn't\"]\n",
      "One morning, Gregor Samsa woke troubled dreams, found transformed bed horrible vermin. lay armour-like back, lifted head little could see brown belly, slightly domed divided arches stiff sections. bedding hardly able cover seemed ready slide moment. many legs, pitifully thin compared size rest him, waved helplessly looked. \"What's happened me?\" thought. dream. room, proper human room although little small, lay peacefully four familiar walls. collection textile samples lay spread table - Samsa travelling salesman - hung picture recently cut illustrated magazine housed nice, gilded frame. showed lady fitted fur hat fur boa sat upright, raising heavy fur muff covered whole lower arm towards viewer. Gregor turned look window dull weather. Drops rain could heard hitting pane, made feel quite sad. \"How sleep little bit longer forget nonsense\", thought, something unable used sleeping right, present state get position. However hard threw onto right, always rolled back was. must tried hundred times, shut eyes look floundering legs, stopped began feel mild, dull pain never felt before. \"Oh, God\", thought, \"what strenuous career I've chosen! Travelling day day out. business like takes much effort business home, top there's curse travelling, worries making train connections, bad irregular food, contact different people time never get know anyone become friendly them. go Hell!\" felt slight itch belly; pushed slowly back towards headboard could lift head better; found itch was, saw covered lots little white spots know make of; tried feel place one legs drew quickly back soon touched overcome cold shudder. slid back former position. \"Getting early time\", thought, \"it makes stupid. got get enough sleep. travelling salesmen live life luxury. instance, whenever go back guest house morning copy contract, gentlemen always still sitting eating breakfasts. ought try boss; I'd get kicked spot. knows, maybe would best thing me. parents think I'd given notice long time ago, I'd gone boss told think, tell everything would, let know feel. He'd fall right desk! funny sort business sitting desk, talking subordinates there, especially go right close boss hard hearing. Well, there's still hope; I've got money together pay parents' debt - another five six years suppose - that's definitely I'll do. That's I'll make big change. First though, I've got get up, train leaves five.\" looked alarm clock, ticking chest drawers. \"God Heaven!\" thought. half past six hands quietly moving forwards, even later half past, like quarter seven. alarm clock rung? could see bed set four o'clock been; certainly must rung. Yes, possible quietly sleep furniture-rattling noise? True, slept peacefully, probably deeply that. now? next train went seven; catch would rush like mad collection samples still packed, feel particularly fresh lively. even catch train would avoid boss's anger office assistant would see five o'clock train go, would put report Gregor's long time ago. office assistant boss's man, spineless, understanding. reported sick? would extremely strained suspicious fifteen years service Gregor never yet ill. boss would certainly come round doctor medical insurance company, accuse parents lazy son, accept doctor's recommendation make claim doctor believed no-one ever ill many workshy. what's more, would entirely wrong case? Gregor fact, apart excessive sleepiness sleeping long, feel completely well even felt much hungrier usual. still hurriedly thinking through, unable decide get bed, clock struck quarter seven. cautious knock door near head. \"Gregor\", somebody called - mother - \"it's quarter seven. want go somewhere?\" gentle voice! Gregor shocked heard voice answering, could hardly recognised voice before. deep inside him, painful uncontrollable squeaking mixed it, words could made first sort echo made unclear, leaving hearer unsure whether heard properly not. Gregor wanted give full answer explain everything, circumstances contented saying: \"Yes, mother, yes, thank-you, I'm getting now.\" change Gregor's voice probably could noticed outside wooden door, mother satisfied explanation shuffled away. short conversation made members family aware Gregor, expectations still home, soon father came knocking one side doors, gently, fist. \"Gregor, Gregor\", called, \"what's wrong?\" short called warning deepness voice: \"Gregor! Gregor!\" side door sister came plaintively: \"Gregor? well? need anything?\" Gregor answered sides: \"I'm ready, now\", making effort remove strangeness voice enunciating carefully putting long pauses each, individual word. father went back breakfast, sister whispered: \"Gregor, open door, beg you.\" Gregor, however, thought opening door, instead congratulated cautious habit, acquired travelling, locking doors night even home. first thing wanted get peace without disturbed, get dressed, breakfast. would consider next, well aware would bring thoughts sensible conclusions lying bed. remembered often felt slight pain bed, perhaps caused lying awkwardly, always turned pure imagination wondered imaginings would slowly resolve today. slightest doubt change voice nothing first sign serious cold, occupational hazard travelling salesmen. simple matter throw covers; blow little fell themselves. became difficult that, especially exceptionally broad. would used arms hands push up; instead little legs continuously moving different directions, moreover unable control. wanted bend one them, first one would stretch out; finally managed wanted leg, others seemed set free would move painfully. \"This something can't done bed\", Gregor said himself, \"so keep trying it\". first thing wanted get lower part body bed, never seen lower part, could imagine looked like; turned hard move; went slowly; finally, almost frenzy, carelessly shoved forwards force could gather, chose wrong direction, hit hard lower bedpost, learned burning pain felt lower part body might well, present, sensitive. tried get top part body bed first, carefully turning head side. managed quite easily, despite breadth weight, bulk body eventually followed slowly direction head. last got head bed fresh air occurred let fall would miracle head injured, became afraid carry pushing forward way. could knock price; better stay bed lose consciousness. took much effort get back earlier, lay sighing, watching legs struggled even harder before, possible, could think way bringing peace order chaos. told possible stay bed sensible thing would get free whatever way could whatever sacrifice. time, though, forget remind calm consideration much better rushing desperate conclusions. times like would direct eyes window look clearly could, unfortunately, even side narrow street enveloped morning fog view little confidence cheer offer him. \"Seven o'clock, already\", said clock struck again, \"seven o'clock, there's still fog like this.\" lay quietly longer, breathing lightly perhaps expected total stillness bring things back real natural state. said himself: \"Before strikes quarter past seven I'll definitely got properly bed. somebody come round work ask what's happened well, open work seven o'clock.\" set task swinging entire length body bed time. succeeded falling bed way kept head raised could probably avoid injuring it. back seemed quite hard, probably nothing would happen falling onto carpet. main concern loud noise bound make, even doors would probably raise concern alarm. something risked. Gregor already sticking half way bed - new method game effort, rock back forth - occurred simple everything would somebody came help him. Two strong people - father maid mind - would enough; would push arms dome back, peel away bed, bend load patient careful swang onto floor, where, hopefully, little legs would find use. really call help though, even apart fact doors locked? Despite difficulty in, could suppress smile thought. already moved far across would hard keep balance rocked hard. time ten past seven would make final decision soon. ring door flat. \"That'll someone work\", said himself, froze still, although little legs became lively danced around. moment everything remained quiet. \"They're opening door\", Gregor said himself, caught nonsensical hope. course, maid's firm steps went door ever opened it. Gregor needed hear visitor's first words greeting knew - chief clerk himself. Gregor one condemned work company immediately became highly suspicious slightest shortcoming? employees, every one them, louts, one faithful devoted would go mad pangs conscience get bed spend least couple hours morning company business? really enough let one trainees make enquiries - assuming enquiries even necessary - chief clerk come himself, show whole, innocent family suspicious chief clerk could trusted wisdom investigate it? thoughts made upset proper decision, swang force bed. loud thump, really loud noise. fall softened little carpet, Gregor's back also elastic thought, made sound muffled noticeable. held head carefully enough, though, hit fell; annoyed pain, turned rubbed carpet. \"Something's fallen there\", said chief clerk room left. Gregor tried imagine whether something sort happened today could ever happen chief clerk too; concede possible. gruff reply question, chief clerk's firm footsteps highly polished boots could heard adjoining room. room right, Gregor's sister whispered let know: \"Gregor, chief clerk here.\" \"Yes, know\", said Gregor himself; without daring raise voice loud enough sister hear him. \"Gregor\", said father room left, \"the chief clerk come round wants know leave early train. know say him. anyway, wants speak personally. please open door. I'm sure he'll good enough forgive untidiness room.\" chief clerk called \"Good morning, Mr. Samsa\". \"He well\", said mother chief clerk, father continued speak door. \"He well, please believe me. else would Gregor missed train! lad ever thinks business. nearly makes cross way never goes evenings; he's town week stayed home every evening. sits us kitchen reads paper studies train timetables. idea relaxation working fretsaw. He's made little frame, instance, took two three evenings, amazed nice is; hanging room; see soon Gregor opens door. Anyway, I'm glad here; able get Gregor open door ourselves; he's stubborn; I'm sure well, said morning is, isn't.\" \"I'll moment\", said Gregor slowly thoughtfully, without moving would miss word conversation. \"Well can't think way explaining it, Mrs. Samsa\", said chief clerk, \"I hope nothing serious. hand, must say people commerce ever become slightly unwell then, fortunately unfortunately like, simply overcome business considerations.\" \"Can chief clerk come see then?\", asked father impatiently, knocking door again. \"No\", said Gregor. room right followed painful silence; room left sister began cry. sister go join others? probably got even begun get dressed. crying? got up, let chief clerk in, danger losing job happened boss would pursue parents demands before? need worry things like yet. Gregor still slightest intention abandoning family. time lay carpet, no-one knew condition would seriously expected let chief clerk in. minor discourtesy, suitable excuse could easily found later on, something Gregor could sacked spot. seemed Gregor much sensible leave peace instead disturbing talking crying. others know happening, worried, would excuse behaviour. chief clerk raised voice, \"Mr. Samsa\", called him, \"what wrong? barricade room, give us yes answer, causing serious unnecessary concern parents fail - mention way - fail carry business duties way quite unheard of. I'm speaking behalf parents employer, really must request clear immediate explanation. astonished, quite astonished. thought knew calm sensible person, suddenly seem showing peculiar whims. morning, employer suggest possible reason failure appear, true - money recently entrusted - came near giving word honour could right explanation. see incomprehensible stubbornness longer feel wish whatsoever intercede behalf. position secure. originally intended say private, since cause waste time good reason see parents also learn it. turnover unsatisfactory late; grant time year especially good business, recognise that; simply time year business all, Mr. Samsa, cannot allow be.\" \"But Sir\", called Gregor, beside forgetting else excitement, \"I'll open immediately, moment. I'm slightly unwell, attack dizziness, able get up. I'm still bed now. I'm quite fresh now, though. I'm getting bed. moment. patient! quite easy I'd thought. I'm quite alright now, though. shocking, suddenly happen person! quite alright last night, parents know it, perhaps better me, small symptom last night already. must noticed it. know let know work! always think get illness without staying home. Please, make parents suffer! There's basis accusations making; nobody's ever said word things. Maybe read latest contracts sent in. I'll set eight o'clock train, well, hours rest given strength. need wait, sir; I'll office soon you, please good tell boss recommend him!\" Gregor gushed words, hardly knowing saying, made way chest drawers - easily done, probably practise already bed - tried get upright. really want open door, really want let see speak chief clerk; others insistent, curious learn would say caught sight him. shocked would longer Gregor's responsibility could rest. If, however, took everything calmly would still reason upset, hurried really could station eight o'clock. first times tried climb smooth chest drawers slid again, finally gave one last swing stood upright; lower part body serious pain longer gave attention it. let fall back nearby chair held tightly edges little legs. also calmed down, kept quiet could listen chief clerk saying. \"Did understand word that?\" chief clerk asked parents, \"surely he's trying make fools us\". \"Oh, God!\" called mother, already tears, \"he could seriously ill we're making suffer. Grete! Grete!\" cried. \"Mother?\" sister called side. communicated across Gregor's room. \"You'll go doctor straight away. Gregor ill. Quick, get doctor. hear way Gregor spoke now?\" \"That voice animal\", said chief clerk, calmness contrast mother's screams. \"Anna! Anna!\" father called kitchen entrance hall, clapping hands, \"get locksmith here, now!\" two girls, skirts swishing, immediately ran hall, wrenching open front door flat went. sister managed get dressed quickly? sound door banging shut again; must left open; people often homes something awful happened. Gregor, contrast, become much calmer. understand words more, although seemed clear enough him, clearer - perhaps ears become used sound. realised, though, something wrong him, ready help. first response situation confident wise, made feel better. felt drawn back among people, doctor locksmith expected great surprising achievements - although really distinguish one other. Whatever said next would crucial, so, order make voice clear possible, coughed little, taking care loudly even might well sound different way human coughs longer sure could judge himself. Meanwhile, become quiet next room. Perhaps parents sat table whispering chief clerk, perhaps pressed door listening. Gregor slowly pushed way door chair. let go threw onto door, holding upright using adhesive tips legs. rested little recover effort involved set task turning key lock mouth. seemed, unfortunately, proper teeth - he, then, grasp key? - lack teeth was, course, made strong jaw; using jaw, really able start key turning, ignoring fact must causing kind damage brown fluid came mouth, flowed key dripped onto floor. \"Listen\", said chief clerk next room, \"he's turning key.\" Gregor greatly encouraged this; calling him, father mother too: \"Well done, Gregor\", cried, \"keep it, keep hold lock!\" idea excitedly following efforts, bit key strength, paying attention pain causing himself. key turned round turned around lock it, holding upright mouth, hung onto key pushed whole weight body needed. clear sound lock snapped back Gregor's sign could break concentration, regained breath said himself: \"So, need locksmith all\". lay head handle door open completely. open door way, already wide open could seen. first slowly turn around one double doors, carefully want fall flat back entering room. still occupied difficult movement, unable pay attention anything else, heard chief clerk exclaim loud \"Oh!\", sounded like soughing wind. also saw - nearest door - hand pressed open mouth slowly retreating driven steady invisible force. Gregor's mother, hair still dishevelled bed despite chief clerk's there, looked father. unfolded arms, took two steps forward towards Gregor sank onto floor skirts spread around head disappeared onto breast. father looked hostile, clenched fists wanting knock Gregor back room. looked uncertainly round living room, covered eyes hands wept powerful chest shook. Gregor go room, leant inside door still held bolted place. way half body could seen, along head leant one side peered others. Meanwhile day become much lighter; part endless, grey-black building side street - hospital - could seen quite clearly austere regular line windows piercing facade; rain still falling, throwing large, individual droplets hit ground one time. washing breakfast lay table; much because, Gregor's father, breakfast important meal day would stretch several hours sat reading number different newspapers. wall exactly opposite photograph Gregor lieutenant army, sword hand carefree smile face called forth respect uniform bearing. door entrance hall open front door flat also open could see onto landing stairs began way below. \"Now, then\", said Gregor, well aware one kept calm, \"I'll get dressed straight away now, pack samples set off. please let leave? see\", said chief clerk, \"that I'm stubborn like job; commercial traveller arduous without travelling earn living. going, office? Yes? report everything accurately, then? quite possible someone temporarily unable work, that's right time remember what's achieved past consider later on, difficulty removed, certainly work diligence concentration. well aware I'm seriously debt employer well look parents sister, I'm trapped difficult situation, work way again. Please make things harder already, take sides office. know nobody likes travellers. think earn enormous wage well soft time it. That's prejudice particular reason think better it. you, sir, better overview rest staff, fact, say confidence, better overview boss - easy businessman like make mistakes employees judge harshly should. also well aware travellers spend almost whole year away office, easily fall victim gossip chance groundless complaints, almost impossible defend sort thing, usually even hear them, arrive back home exhausted trip, that's feel harmful effects what's going without even knowing caused them. Please, go away, least first say something show grant I'm least partly right!\" chief clerk turned away soon Gregor started speak, and, protruding lips, stared back trembling shoulders left. keep still moment Gregor speaking, moved steadily towards door without taking eyes him. moved gradually, secret prohibition leaving room. reached entrance hall made sudden movement, drew foot living room, rushed forward panic. hall, stretched right hand far towards stairway there, supernatural force waiting save him. Gregor realised question let chief clerk go away mood position firm put extreme danger. something parents understand well; years, become convinced job would provide Gregor entire life, besides, much worry present lost sight thought future. Gregor, though, think future. chief clerk held back, calmed down, convinced finally over; future Gregor family depended it! sister here! clever; already tears Gregor still lying peacefully back. chief clerk lover women, surely could persuade him; would close front door entrance hall talk shocked state. sister there, Gregor would job himself. without considering still familiar well could move present state, speech still might - probably would - understood, let go door; pushed opening; tried reach chief clerk landing who, ridiculously, holding banister hands; Gregor fell immediately and, little scream sought something hold onto, landed numerous little legs. Hardly happened than, first time day, began feel alright body; little legs solid ground them; pleasure, exactly told them; even making effort carry wanted go; soon believing sorrows would soon finally end. held back urge move swayed side side crouched floor. mother far away front seemed, first, quite engrossed herself, suddenly jumped arms outstretched fingers spread shouting: \"Help, pity's sake, Help!\" way held head suggested wanted see Gregor better, unthinking way hurrying backwards showed not; forgotten table behind breakfast things it; reached table sat quickly without knowing doing; without even seeming notice coffee pot knocked gush coffee pouring onto carpet. \"Mother, mother\", said Gregor gently, looking her. completely forgotten chief clerk moment, could help snapping air jaws sight flow coffee. set mother screaming anew, fled table arms father rushed towards her. Gregor, though, time spare parents now; chief clerk already reached stairs; chin banister, looked back last time. Gregor made run him; wanted sure reaching him; chief clerk must expected something, leapt several steps disappeared; shouts resounding around staircase. flight chief clerk seemed, unfortunately, put Gregor's father panic well. relatively self controlled, now, instead running chief clerk himself, least impeding Gregor ran him, Gregor's father seized chief clerk's stick right hand (the chief clerk left behind chair, along hat overcoat), picked large newspaper table left, used drive Gregor back room, stamping foot went. Gregor's appeals father help, appeals simply understood, however much humbly turned head father merely stamped foot harder. Across room, despite chilly weather, Gregor's mother pulled open window, leant far pressed hands face. strong draught air flew street towards stairway, curtains flew up, newspapers table fluttered blown onto floor. Nothing would stop Gregor's father drove back, making hissing noises like wild man. Gregor never practice moving backwards able go slowly. Gregor allowed turn round would back room straight away, afraid took time father would become impatient, threat lethal blow back head stick father's hand moment. Eventually, though, Gregor realised choice saw, disgust, quite incapable going backwards straight line; began, quickly possible frequent anxious glances father, turn round. went slowly, perhaps father able see good intentions nothing hinder him, fact used tip stick give directions distance way turn. father would stop unbearable hissing! making Gregor quite confused. nearly finished turning round, still listening hissing, made mistake turned back little way come. pleased finally head front doorway, saw narrow, body broad get without difficulty. present mood, obviously occur father open double doors Gregor would enough space get through. merely fixed idea Gregor got back room quickly possible. would ever allowed Gregor time get upright preparation getting doorway. did, making noise ever, drive Gregor forwards harder nothing way; sounded Gregor one father behind him; pleasant experience, Gregor pushed doorway without regard might happen. One side body lifted itself, lay angle doorway, one flank scraped white door painfully injured, leaving vile brown flecks it, soon stuck fast would able move himself, little legs along one side hung quivering air side pressed painfully ground. father gave hefty shove behind released held sent flying, heavily bleeding, deep room. door slammed shut stick, then, finally, quiet. II getting dark evening Gregor awoke deep coma-like sleep. would woken soon afterwards anyway even disturbed, enough sleep felt fully rested. impression hurried steps sound door leading front room carefully shut woken him. light electric street lamps shone palely onto ceiling tops furniture, below, Gregor was, dark. pushed door, feeling way clumsily antennae - beginning learn value - order see happening there. whole left side seemed like one, painfully stretched scar, limped badly two rows legs. One legs badly injured events morning - nearly miracle one - dragged along lifelessly. reached door realised actually drawn it; smell something eat. door dish filled sweetened milk little pieces white bread floating it. pleased almost laughed, even hungrier morning, immediately dipped head milk, nearly covering eyes it. soon drew head back disappointment; pain tender left side make difficult eat food - able eat whole body worked together snuffling whole - milk taste nice. Milk like normally favourite drink, sister certainly left that, turned, almost will, away dish crawled back centre room. crack door, Gregor could see gas lit living room. father time would normally sat evening paper, reading loud voice Gregor's mother, sometimes sister, sound heard. Gregor's sister would often write tell reading, maybe father lost habit recent times. quiet around too, even though must somebody flat. \"What quiet life family lead\", said Gregor himself, and, gazing darkness, felt great pride able provide life like nice home sister parents. now, peace wealth comfort come horrible frightening end? something Gregor want think much, started move about, crawling room. long evening, door one side room opened slightly hurriedly closed again; later door side same; seemed someone needed enter room thought better it. Gregor went waited immediately door, resolved either bring timorous visitor room way least find was; door opened night Gregor waited vain. previous morning doors locked everyone wanted get him, now, opened one doors clearly unlocked time day, no-one came, keys sides. late night gaslight living room put out, easy see parents sister stayed awake time, could distinctly heard went away together tip-toe. clear no-one would come Gregor's room morning; gave plenty time think undisturbed would re-arrange life. reason, tall, empty room forced remain made feel uneasy lay flat floor, even though living five years. Hardly aware slight feeling shame, hurried couch. pressed back little, longer able lift head, nonetheless felt immediately ease regret body broad get underneath. spent whole night there. time passed light sleep, although frequently woke alarm hunger, time spent worries vague hopes which, however, always led conclusion: time must remain calm, must show patience greatest consideration family could bear unpleasantness he, present condition, forced impose them. Gregor soon opportunity test strength decisions, early next morning, almost night ended, sister, nearly fully dressed, opened door front room looked anxiously in. see straight away, notice couch - somewhere, God's sake, flown away - shocked lost control slammed door shut outside. seemed regret behaviour, opened door straight away came tip-toe entering room someone seriously ill even stranger. Gregor pushed head forward, right edge couch, watched her. Would notice left milk was, realise lack hunger bring food suitable? would rather go hungry draw attention it, although feel terrible urge rush forward couch, throw sister's feet beg something good eat. However, sister noticed full dish immediately looked drops milk splashed around surprise. immediately picked - using rag, bare hands - carried out. Gregor extremely curious would bring place, imagining wildest possibilities, never could guessed sister, goodness, actually bring. order test taste, brought whole selection things, spread old newspaper. old, half-rotten vegetables; bones evening meal, covered white sauce gone hard; raisins almonds; cheese Gregor declared inedible two days before; dry roll bread spread butter salt. well poured water dish, probably permanently set aside Gregor's use, placed beside them. Then, consideration Gregor's feelings, knew would eat front her, hurried even turned key lock Gregor would know could make things comfortable liked. Gregor's little legs whirred, last could eat. What's more, injuries must already completely healed found difficulty moving. amazed him, month earlier cut finger slightly knife, thought finger still hurt day yesterday. \"Am less sensitive used be, then?\", thought, already sucking greedily cheese immediately, almost compellingly, attracted much foods newspaper. Quickly one another, eyes watering pleasure, consumed cheese, vegetables sauce; fresh foods, hand, like all, even dragged things want eat little way away stand smell. Long finished eating lay lethargic place, sister slowly turned key lock sign withdraw. immediately startled, although half asleep, hurried back couch. needed great self-control stay even short time sister room, eating much food rounded body little could hardly breathe narrow space. Half suffocating, watched bulging eyes sister unselfconsciously took broom swept left-overs, mixing food even touched could used more. quickly dropped bin, closed wooden lid, carried everything out. hardly turned back Gregor came couch stretched himself. Gregor received food day now, morning parents maid still asleep, second time everyone eaten meal midday parents would sleep little well, Gregor's sister would send maid away errand. Gregor's father mother certainly want starve either, perhaps would could stand experience feeding told it, perhaps sister wanted spare distress could indeed suffering enough. impossible Gregor find told doctor locksmith first morning get flat. nobody could understand him, nobody, even sister, thought could understand them, content hear sister's sighs appeals saints moved room. later, become little used everything - was, course, question ever becoming fully used situation - Gregor would sometimes catch friendly comment, least comment could construed friendly. \"He's enjoyed dinner today\", might say diligently cleared away food left him, left it, slowly became frequent, would often say, sadly, \"now everything's left again\". Although Gregor able hear news directly listen much said next rooms, whenever heard anyone speaking would scurry straight appropriate door press whole body it. seldom conversation, especially first, way, even secret. two whole days, talk every mealtime now; even meals spoke subject always least two members family home - nobody wanted home question leave flat entirely empty. first day maid fallen knees begged Gregor's mother let go without delay. clear much knew happened left within quarter hour, tearfully thanking Gregor's mother dismissal done enormous service. even swore emphatically tell anyone slightest happened, even though no-one asked her. Gregor's sister also help mother cooking; although much bother no-one ate much. Gregor often heard one would unsuccessfully urge another eat, receive answer \"no thanks, I've enough\" something similar. No-one drank much either. sister would sometimes ask father whether would like beer, hoping chance go fetch herself. father said nothing would add, would feel selfish, could send housekeeper it, father would close matter big, loud \"No\", would said. Even first day come end, father explained Gregor's mother sister finances prospects were. stood table took receipt document little cash box saved business collapsed five years earlier. Gregor heard opened complicated lock closed taken item wanted. heard father say first good news Gregor heard since first incarcerated room. thought nothing remained father's business, least never told anything different, Gregor never asked anyway. business misfortune reduced family state total despair, Gregor's concern time arrange things could forget quickly possible. started working especially hard, fiery vigour raised junior salesman travelling representative almost overnight, bringing chance earn money quite different ways. Gregor converted success work straight cash could lay table home benefit astonished delighted family. good times never come again, least splendour, even though Gregor later earned much position bear costs whole family, bear them. even got used it, Gregor family, took money gratitude glad provide it, although longer much warm affection given return. Gregor remained close sister now. Unlike him, fond music gifted expressive violinist, secret plan send conservatory next year even though would cause great expense would made way. Gregor's short periods town, conversation sister would often turn conservatory ever mentioned lovely dream could never realised. parents like hear innocent talk, Gregor thought quite hard decided would let know planned grand announcement Christmas day. sort totally pointless thing went mind present state, pressed upright door listening. times simply became tired continue listening, head would fall wearily door would pull start, even slightest noise caused would heard next door would go silent. \"What's he's now\", father would say while, clearly gone door, would interrupted conversation slowly taken again. explaining things, father repeated several times, partly long time since occupied matters partly Gregor's mother understand everything first time. repeated explanations Gregor learned, pleasure, despite misfortunes still money available old days. lot, touched meantime interest accumulated. Besides that, using money Gregor bringing home every month, keeping little himself, that, too, accumulating. Behind door, Gregor nodded enthusiasm pleasure unexpected thrift caution. could actually used surplus money reduce father's debt boss, day could freed job would come much closer, certainly better way father done things. money, however, certainly enough enable family live interest; enough maintain for, perhaps, one two years, more. That's say, money really touched set aside emergencies; money live earned. father healthy old, lacking self confidence. five years working - first holiday life full strain success - put lot weight become slow clumsy. Would Gregor's elderly mother go earn money? suffered asthma strain move home, every day would spent struggling breath sofa open window. Would sister go earn money? still child seventeen, life till enviable, consisting wearing nice clothes, sleeping late, helping business, joining modest pleasures playing violin. Whenever began talk need earn money, Gregor would always first let go door throw onto cool, leather sofa next it, became quite hot shame regret. would often lie whole night through, sleeping wink scratching leather hours end. might go effort pushing chair window, climbing onto sill and, propped chair, leaning window stare it. used feel great sense freedom this, obviously something remembered experienced, actually saw way becoming less distinct every day, even things quite near; used curse ever-present view hospital across street, could see all, known lived Charlottenstrasse, quiet street despite middle city, could thought looking window barren waste grey sky grey earth mingled inseparably. observant sister needed notice chair twice would always push back exact position window tidied room, even left inner pane window open on. Gregor able speak sister thank would easier bear it; caused pain. sister, naturally, tried far possible pretend nothing burdensome it, longer went on, course, better able so, time went Gregor also able see much better. even become unpleasant him, now, whenever entered room. sooner come would quickly close door precaution no-one would suffer view Gregor's room, would go straight window pull hurriedly open almost suffocating. Even cold, would stay window breathing deeply little while. would alarm Gregor twice day running noise making; would stay couch shivering whole while, knowing full well would certainly liked spare ordeal, impossible room windows closed. One day, month Gregor's transformation sister longer particular reason shocked appearance, came room little earlier usual found still staring window, motionless, would horrible. itself, sister's coming room would surprise Gregor would difficult immediately open window still there, come in, went straight back closed door behind her, stranger would thought threatened tried bite her. Gregor went straight hide couch, course, wait midday sister came back seemed much uneasy usual. made realise still found appearance unbearable would continue so, probably even overcome urge flee saw little bit protruded couch. One day, order spare even sight, spent four hours carrying bedsheet couch back arranged completely covered sister would able see even bent down. think sheet necessary take again, clear enough pleasure Gregor cut completely. left sheet was. Gregor even thought glimpsed look gratitude one time carefully looked sheet see sister liked new arrangement. first fourteen days, Gregor's parents could bring come room see him. would often hear say appreciated new work sister even though, before, seen girl somewhat useless frequently annoyed her. two them, father mother, would often wait outside door Gregor's room sister tidied there, soon went would tell exactly everything looked, Gregor eaten, behaved time whether, perhaps, slight improvement could seen. mother also wanted go visit Gregor relatively soon father sister first persuaded it. Gregor listened closely this, approved fully. Later, though, held back force, made call out: \"Let go see Gregor, unfortunate son! Can't understand see him?\", Gregor would think maybe would better mother came in, every day course, one day week, perhaps; could understand everything much better sister who, courage, still child all, really might adult's appreciation burdensome job taken on. Gregor's wish see mother soon realised. consideration parents, Gregor wanted avoid seen window day, square meters floor give much room crawl about, hard lie quietly night, food soon stopped giving pleasure all, so, entertain himself, got habit crawling walls ceiling. especially fond hanging ceiling; quite different lying floor; could breathe freely; body light swing it; there, relaxed almost happy, might happen would surprise even letting go ceiling landing floor crash. now, course, far better control body and, even fall great that, caused damage. soon sister noticed Gregor's new way entertaining - had, all, left traces adhesive feet crawled - got head make easy possible removing furniture got way, especially chest drawers desk. Now, something would able herself; dare ask help father; sixteen year old maid carried bravely since cook left certainly would helped this, even asked allowed keep kitchen locked times never open door unless especially important; sister choice choose time Gregor's father fetch mother help her. approached room, Gregor could hear mother express joy, door went silent. First, course, sister came looked round see everything room alright; let mother enter. Gregor hurriedly pulled sheet lower couch put folds everything really looked thrown chance. Gregor also refrained, time, spying sheet; gave chance see mother later simply glad come. \"You come in, can't seen\", said sister, obviously leading hand. old chest drawers heavy pair feeble women heaving about, Gregor listened pushed place, sister always taking heaviest part work ignoring mother's warnings would strain herself. lasted long time. labouring fifteen minutes mother said would better leave chest was, one thing heavy get job finished Gregor's father got home leaving middle room would way even more, another thing even sure taking furniture away would really help him. thought opposite; sight bare walls saddened right heart; Gregor feel way it, he'd used furniture room long time would make feel abandoned empty room like that. Then, quietly, almost whispering wanting Gregor (whose whereabouts know) hear even tone voice, convinced understand words, added \"and taking furniture away, seem like we're showing we've given hope improvement we're abandoning cope himself? think it'd best leave room exactly way Gregor comes back us he'll find everything unchanged he'll able forget time easier\". Hearing words mother made Gregor realise lack direct human communication, along monotonous life led family two months, must made confused - could think way explaining seriously wanted room emptied out. really wanted transform room cave, warm room fitted nice furniture inherited? would let crawl around unimpeded direction, would also let quickly forget past still human. come close forgetting, voice mother, unheard long, shaken it. Nothing removed; everything stay; could without good influence furniture condition; furniture made difficult crawl mindlessly loss great advantage. sister, unfortunately, agree; become used idea, without reason, Gregor's spokesman parents things concerned him. meant mother's advice sufficient reason insist removing chest drawers desk, thought first, furniture apart all-important couch. childish perversity, course, unexpected confidence recently acquired, made insist; indeed noticed Gregor needed lot room crawl in, whereas furniture, far anyone could see, use all. Girls age, though, become enthusiastic things feel must get way whenever can. Perhaps tempted Grete make Gregor's situation seem even shocking could even him. Grete would probably one would dare enter room dominated Gregor crawling bare walls himself. refused let mother dissuade her. Gregor's mother already looked uneasy room, soon stopped speaking helped Gregor's sister get chest drawers strength had. chest drawers something Gregor could without to, writing desk stay. Hardly two women pushed chest drawers, groaning, room Gregor poked head couch see could it. meant careful considerate could, but, unfortunately, mother came back first Grete next room arms round chest, pushing pulling side side without, course, moving inch. mother used sight Gregor, might made ill, Gregor hurried backwards far end couch. startlement, though, able prevent sheet front moving little. enough attract mother's attention. stood still, remained moment, went back Grete. Gregor kept trying assure nothing unusual happening, pieces furniture moved all, soon admit women going fro, little calls other, scraping furniture floor, things made feel assailed sides. head legs pulled body pressed floor, forced admit could stand much longer. emptying room out; taking away everything dear him; already taken chest containing fretsaw tools; threatened remove writing desk place clearly worn floor, desk done homework business trainee, high school, even infant school--he really could wait longer see whether two women's intentions good. nearly forgotten anyway, tired say anything worked could hear feet stepped heavily floor. So, women leant desk room catching breath, sallied out, changed direction four times knowing save first attention suddenly caught picture wall - already denuded everything else - lady dressed copious fur. hurried onto picture pressed glass, held firmly felt good hot belly. picture least, totally covered Gregor, would certainly taken away no-one. turned head face door living room could watch women came back. allowed long rest came back quite soon; Grete put arm around mother nearly carrying her. \"What shall take now, then?\", said Grete looked around. eyes met Gregor wall. Perhaps mother there, remained calm, bent face would look round said, albeit hurriedly tremor voice: \"Come on, let's go back living room while?\" Gregor could see Grete mind, wanted take mother somewhere safe chase wall. Well, could certainly try it! sat unyielding picture. would rather jump Grete's face. Grete's words made mother quite worried, stepped one side, saw enormous brown patch flowers wallpaper, even realised Gregor saw screamed: \"Oh God, oh God!\" Arms outstretched, fell onto couch given everything stayed immobile. \"Gregor!\" shouted sister, glowering shaking fist. first word spoken directly since transformation. ran room fetch kind smelling salts bring mother faint; Gregor wanted help - could save picture later, although stuck fast glass pull force; he, too, ran next room could advise sister like old days; stand behind nothing; looking various bottles, startled turned round; bottle fell ground broke; splinter cut Gregor's face, kind caustic medicine splashed him; now, without delaying longer, Grete took hold bottles could ran mother; slammed door shut foot. Gregor shut mother, who, him, might near death; could open door want chase sister away, stay mother; nothing wait; and, oppressed anxiety self-reproach, began crawl about, crawled everything, walls, furniture, ceiling, finally confusion whole room began spin around fell middle dinner table. lay while, numb immobile, around quiet, maybe good sign. someone door. maid, course, locked kitchen Grete would go answer it. father arrived home. \"What's happened?\" first words; Grete's appearance must made everything clear him. answered subdued voice, openly pressed face chest: \"Mother's fainted, better now. Gregor got out.\" \"Just expected\", said father, \"just always said, women listen, would you.\" clear Gregor Grete said enough father took mean something bad happened, responsible act violence. meant Gregor would try calm father, time explain things even possible. fled door room pressed father, came hall, could see straight away Gregor best intentions would go back room without delay, would necessary drive back open door would disappear. father, though, mood notice subtleties like that; \"Ah!\", shouted came in, sounding angry glad time. Gregor drew head back door lifted towards father. really imagined father way stood now; late, new habit crawling about, neglected pay attention going rest flat way done before. really ought expected things changed, still, still, really father? tired man used laying entombed bed Gregor came back business trips, would receive sitting armchair nightgown came back evenings; hardly even able stand but, sign pleasure, would raise arms who, couple times year went walk together Sunday public holiday wrapped tightly overcoat Gregor mother, would always labour way forward little slowly them, already walking slowly sake; would place stick carefully and, wanted say something would invariably stop gather companions around him. standing straight enough now; dressed smart blue uniform gold buttons, sort worn employees banking institute; high, stiff collar coat strong double-chin emerged; bushy eyebrows, piercing, dark eyes looked fresh alert; normally unkempt white hair combed painfully close scalp. took cap, gold monogram from, probably, bank, threw arc right across room onto sofa, put hands trouser pockets, pushing back bottom long uniform coat, and, look determination, walked towards Gregor. probably even know mind, nonetheless lifted feet unusually high. Gregor amazed enormous size soles boots, wasted time - knew full well, right first day new life, father thought necessary always extremely strict him. ran father, stopped father stopped, scurried forwards moved, even slightly. way went round room several times without anything decisive happening, without even giving impression chase everything went slowly. Gregor remained time floor, largely feared father might see especially provoking fled onto wall ceiling. Whatever did, Gregor admit certainly would able keep running long, step father took carry countless movements. became noticeably short breath, even earlier life lungs reliable. Now, lurched efforts muster strength could running could hardly keep eyes open; thoughts became slow think way saving running; almost forgot walls use although, here, concealed behind carefully carved furniture full notches protrusions - then, right beside him, lightly tossed, something flew rolled front him. apple; another one immediately flew him; Gregor froze shock; longer point running father decided bombard him. filled pockets fruit bowl sideboard now, without even taking time careful aim, threw one apple another. little, red apples rolled floor, knocking electric motors. apple thrown without much force glanced Gregor's back slid without harm. Another one however, immediately following it, hit squarely lodged back; Gregor wanted drag away, could remove surprising, incredible pain changing position; felt nailed spot spread out, senses confusion. last thing saw door room pulled open, sister screaming, mother ran front blouse (as sister taken clothes fainted make easier breathe), ran father, skirts unfastened sliding one another ground, stumbling skirts pushed father, arms around him, uniting totally - Gregor lost ability see anything - hands behind father's head begging spare Gregor's life. III No-one dared remove apple lodged Gregor's flesh, remained visible reminder injury. suffered month, condition seemed serious enough remind even father Gregor, despite current sad revolting form, family member could treated enemy. contrary, family duty swallow revulsion patient, patient. injuries, Gregor lost much mobility - probably permanently. reduced condition ancient invalid took long, long minutes crawl across room - crawling ceiling question - deterioration condition fully (in opinion) made door living room left open every evening. got habit closely watching one two hours opened then, lying darkness room could seen living room, could watch family light dinner table listen conversation - everyone's permission, way, thus quite differently before. longer held lively conversations earlier times, course, ones Gregor always thought longing tired getting damp bed small hotel room. usually quiet nowadays. Soon dinner, father would go sleep chair; mother sister would urge quiet; mother, bent deeply lamp, would sew fancy underwear fashion shop; sister, taken sales job, learned shorthand French evenings might able get better position later on. Sometimes father would wake say Gregor's mother \"you're much sewing today!\", know dozing - would go back sleep mother sister would exchange tired grin. kind stubbornness, Gregor's father refused take uniform even home; nightgown hung unused peg Gregor's father would slumber was, fully dressed, always ready serve expecting hear voice superior even here. uniform new start with, result slowly became even shabbier despite efforts Gregor's mother sister look it. Gregor would often spend whole evening looking stains coat, gold buttons always kept polished shiny, old man would sleep, highly uncomfortable peaceful. soon struck ten, Gregor's mother would speak gently father wake try persuade go bed, sleep properly really get sleep six get work. since work become obstinate would always insist staying longer table, even though regularly fell asleep harder ever persuade exchange chair bed. Then, however much mother sister would importune little reproaches warnings would keep slowly shaking head quarter hour eyes closed refusing get up. Gregor's mother would tug sleeve, whisper endearments ear, Gregor's sister would leave work help mother, nothing would effect him. would sink deeper chair. two women took arms would abruptly open eyes, look one say: \"What life! peace get old age!\" supported two women would lift carefully carrying greatest load himself, let women take door, send carry Gregor's mother would throw needle sister pen could run father continue help him. Who, tired overworked family, would time give attention Gregor absolutely necessary? household budget became even smaller; maid dismissed; enormous, thick-boned charwoman white hair flapped around head came every morning evening heaviest work; everything else looked Gregor's mother top large amount sewing work did. Gregor even learned, listening evening conversation price hoped for, several items jewellery belonging family sold, even though mother sister fond wearing functions celebrations. loudest complaint although flat much big present circumstances, could move it, imaginable way transferring Gregor new address. could see quite well, though, reasons consideration made difficult move, would quite easy transport suitable crate air holes it; main thing holding family back decision move much total despair, thought struck misfortune unlike anything experienced anyone else knew related to. carried absolutely everything world expects poor people, Gregor's father brought bank employees breakfast, mother sacrificed washing clothes strangers, sister ran back forth behind desk behest customers, strength more. injury Gregor's back began hurt much new. come back taking father bed Gregor's mother sister would leave work sit close together, cheek cheek; mother would point Gregor's room say \"Close door, Grete\", then, dark again, would sit next room tears would mingle, would simply sit staring dry-eyed table. Gregor hardly slept all, either night day. Sometimes would think taking family's affairs, like before, next time door opened; long forgotten boss chief clerk, would appear thoughts, salesmen apprentices, stupid teaboy, two three friends businesses, one chambermaids provincial hotel, tender memory appeared disappeared again, cashier hat shop attention serious slow, - appeared him, mixed together strangers others forgotten, instead helping family inaccessible, glad disappeared. times mood look family, filled simple rage lack attention shown, although could think nothing would wanted, made plans could get pantry could take things entitled to, even hungry. Gregor's sister longer thought could please would hurriedly push food room foot rushed work morning midday, evening would sweep away broom, indifferent whether eaten - often - left totally untouched. still cleared room evening, could quicker it. Smears dirt left walls, little balls dust filth. first, Gregor went one worst places sister arrived reproach her, could stayed weeks without sister anything it; could see dirt well could simply decided leave it. time became touchy way quite new everyone family understood - cleaning Gregor's room alone. Gregor's mother thoroughly clean room, needed use several bucketfuls water - although much dampness also made Gregor ill lay flat couch, bitter immobile. mother punished still done, hardly sister arrived home evening noticed change Gregor's room and, highly aggrieved, ran back living room where, despite mothers raised imploring hands, broke convulsive tears. father, course, startled chair two parents looked astonished helpless; they, too, became agitated; Gregor's father, standing right mother, accused leaving cleaning Gregor's room sister; left, Gregor's sister screamed never clean Gregor's room again; mother tried draw father, beside anger, bedroom; sister, quaking tears, thumped table small fists; Gregor hissed anger no-one even thought closing door save sight noise. Gregor's sister exhausted going work, looking Gregor done even work her, even mother ought certainly taken place. Gregor, hand, ought neglected. Now, though, charwoman here. elderly widow, robust bone structure made able withstand hardest things long life, really repelled Gregor. chance one day, rather real curiosity, opened door Gregor's room found face face him. taken totally surprise, no-one chasing began rush fro stood amazement hands crossed front her. never failed open door slightly every evening morning look briefly him. first would call words probably considered friendly, \"come then, old dung-beetle!\", \"look old dung-beetle there!\" Gregor never responded spoken way, remained without moving door never even opened. told charwoman clean room every day instead letting disturb reason whenever felt like it! One day, early morning heavy rain struck windowpanes, perhaps indicating spring coming, began speak way again. Gregor resentful started move toward her, slow infirm, like kind attack. Instead afraid, charwoman lifted one chairs near door stood mouth open, clearly intending close mouth chair hand slammed Gregor's back. \"Aren't coming closer, then?\", asked Gregor turned round again, calmly put chair back corner. Gregor almost entirely stopped eating. happened find next food prepared might take mouth play it, leave hours then, often not, spit again. first thought distress state room stopped eating, soon got used changes made there. got habit putting things room room anywhere else, many things one rooms flat rented three gentlemen. earnest gentlemen - three full beards, Gregor learned peering crack door one day - painfully insistent things' tidy. meant room but, since taken room establishment, entire flat especially kitchen. Unnecessary clutter something could tolerate, especially dirty. moreover brought furnishings equipment them. reason, many things become superfluous which, although could sold, family wish discard. things found way Gregor's room. dustbins kitchen found way too. charwoman always hurry, anything use time would chuck there. He, fortunately, would usually see object hand held it. woman likely meant fetch things back time opportunity, throw everything one go, actually happened left landed first thrown unless Gregor made way junk moved somewhere else. first moved because, room free could crawl about, forced to, later came enjoy although moving way left sad tired death, would remain immobile hours afterwards. gentlemen rented room would sometimes take evening meal home living room used everyone, door room often kept closed evening. Gregor found easy give door open, had, all, often failed make use open and, without family noticed it, lain room darkest corner. One time, though, charwoman left door living room slightly open, remained open gentlemen rented room came evening light put on. sat table where, formerly, Gregor taken meals father mother, unfolded serviettes picked knives forks. Gregor's mother immediately appeared doorway dish meat soon behind came sister dish piled high potatoes. food steaming, filled room smell. gentlemen bent dishes set front wanted test food eating it, gentleman middle, seemed count authority two, indeed cut piece meat still dish, clearly wishing establish whether sufficiently cooked whether sent back kitchen. satisfaction, Gregor's mother sister, looking anxiously, began breathe smiled. family ate kitchen. Nonetheless, Gregor's father came living room went kitchen, bowed cap hand round table. gentlemen stood one, mumbled something beards. Then, alone, ate near perfect silence. seemed remarkable Gregor various noises eating chewing teeth could still heard, wanted show Gregor need teeth order eat possible perform anything jaws toothless however nice might be. \"I'd like eat something\", said Gregor anxiously, \"but anything like they're eating. feed themselves. am, dying!\" Throughout time, Gregor could remember heard violin played, evening began heard kitchen. three gentlemen already finished meal, one middle produced newspaper, given page others, leant back chairs reading smoking. violin began playing became attentive, stood went tip-toe door hallway stood pressed other. Someone must heard kitchen, Gregor's father called out: \"Is playing perhaps unpleasant gentlemen? stop straight away.\" \"On contrary\", said middle gentleman, \"would young lady like come play us room, is, all, much cosy comfortable?\" \"Oh yes, we'd love to\", called back Gregor's father violin player himself. gentlemen stepped back room waited. Gregor's father soon appeared music stand, mother music sister violin. calmly prepared everything begin playing; parents, never rented room therefore showed exaggerated courtesy towards three gentlemen, even dare sit chairs; father leant door right hand pushed two buttons uniform coat; mother, though, offered seat one gentlemen sat - leaving chair gentleman happened placed - way corner. sister began play; father mother paid close attention, one side, movements hands. Drawn playing, Gregor dared come forward little already head living room. Before, taken great pride considerate hardly occurred become thoughtless others. What's more, reason keep hidden covered dust lay everywhere room flew slightest movement; carried threads, hairs, remains food back sides; much indifferent everything lay back wipe carpet like used several times day. despite condition, shy move forward little onto immaculate floor living room. No-one noticed him, though. family totally preoccupied violin playing; first, three gentlemen put hands pockets come far close behind music stand look notes played, must disturbed Gregor's sister, soon, contrast family, withdrew back window heads sunk talking half volume, stayed window Gregor's father observed anxiously. really seemed obvious expected hear beautiful entertaining violin playing disappointed, enough whole performance politeness allowed peace disturbed. especially unnerving, way blew smoke cigarettes upwards mouth noses. Yet Gregor's sister playing beautifully. face leant one side, following lines music careful melancholy expression. Gregor crawled little forward, keeping head close ground could meet eyes chance came. animal music could captivate so? seemed shown way unknown nourishment yearning for. determined make way forward sister tug skirt show might come room violin, no-one appreciated playing much would. never wanted let room, lived, anyway; shocking appearance should, once, use him; wanted every door room hiss spit attackers; sister forced stay him, though, stay free will; would sit beside couch ear bent told always intended send conservatory, would told everyone last Christmas - Christmas really come gone already? - misfortune got way, refuse let anyone dissuade it. hearing this, sister would break tears emotion, Gregor would climb shoulder kiss neck, which, since going work, kept free without necklace collar. \"Mr. Samsa!\", shouted middle gentleman Gregor's father, pointing, without wasting words, forefinger Gregor slowly moved forward. violin went silent, middle three gentlemen first smiled two friends, shaking head, looked back Gregor. father seemed think important calm three gentlemen driving Gregor out, even though upset seemed think Gregor entertaining violin playing been. rushed arms spread attempted drive back room time trying block view Gregor body. become little annoyed, clear whether father's behaviour annoyed dawning realisation neighbour like Gregor next room without knowing it. asked Gregor's father explanations, raised arms like had, tugged excitedly beards moved back towards room slowly. Meanwhile Gregor's sister overcome despair fallen playing suddenly interrupted. let hands drop let violin bow hang limply continued look music still playing, suddenly pulled together, lay instrument mother's lap still sat laboriously struggling breath was, ran next room which, pressure father, three gentlemen quickly moving toward. sister's experienced hand, pillows covers beds flew put order already finished making beds slipped three gentlemen reached room. Gregor's father seemed obsessed forgot respect owed tenants. urged pressed until, already door room, middle three gentlemen shouted like thunder stamped foot thereby brought Gregor's father halt. \"I declare now\", said, raising hand glancing Gregor's mother sister gain attention too, \"that regard repugnant conditions prevail flat family\" - looked briefly decisively floor - \"I give immediate notice room. days living will, course, pay nothing all, contrary consider whether proceed kind action damages you, believe would easy set grounds action.\" silent looked straight ahead waiting something. indeed, two friends joined words: \"And also give immediate notice.\" that, took hold door handle slammed door. Gregor's father staggered back seat, feeling way hands, fell it; looked stretching usual evening nap uncontrolled way head kept nodding could seen sleeping all. Throughout this, Gregor lain still three gentlemen first seen him. disappointment failure plan, perhaps also weak hunger, made impossible move. sure everyone would turn moment, waited. even startled state violin mother's lap fell trembling fingers landed loudly floor. \"Father, Mother\", said sister, hitting table hand introduction, \"we can't carry like this. Maybe can't see it, can. want call monster brother, say is: try get rid it. We've done that's humanly possible look patient, think anyone could accuse us anything wrong.\" \"She's absolutely right\", said Gregor's father himself. mother, still time catch breath, began cough dully, hand held front deranged expression eyes. Gregor's sister rushed mother put hand forehead. words seemed give Gregor's father definite ideas. sat upright, played uniform cap plates left three gentlemen meal, occasionally looked Gregor lay immobile. \"We try get rid it\", said Gregor's sister, speaking father, mother occupied coughing listen, \"it'll death you, see coming. can't work hard come home tortured like this, can't endure it. can't endure more.\" broke heavily tears flowed face mother, wiped away mechanical hand movements. \"My child\", said father sympathy obvious understanding, \"what do?\" sister shrugged shoulders sign helplessness tears taken hold her, displacing earlier certainty. \"If could understand us\", said father almost question; sister shook hand vigorously tears sign question. \"If could understand us\", repeated Gregor's father, closing eyes acceptance sister's certainty quite impossible, \"then perhaps could come kind arrangement him. ...\" \"It's got go\", shouted sister, \"that's way, Father. got get rid idea that's Gregor. We've harmed believing long. Gregor? Gregor would seen long ago possible human beings live animal like would gone free will. brother more, then, could carry lives remember respect. animal persecuting us, driven tenants, obviously wants take whole flat force us sleep streets. Father, look, look\", suddenly screamed, \"he's starting again!\" alarm, totally beyond Gregor's comprehension, sister even abandoned mother pushed vigorously chair willing sacrifice mother stay anywhere near Gregor. rushed behind father, become excited merely stood half raising hands front Gregor's sister protect her. Gregor intention frightening anyone, least sister. done begin turn round could go back room, although quite startling pain-wracked condition meant turning round required great deal effort using head help it, repeatedly raising striking floor. stopped looked round. seemed realised good intention alarmed briefly. looked unhappy silence. mother lay chair legs stretched pressed other, eyes nearly closed exhaustion; sister sat next father arms around neck. \"Maybe they'll let turn round\", thought Gregor went back work. could help panting loudly effort sometimes stop take rest. No-one making rush more, everything left him. soon finally finished turning round began move straight ahead. amazed great distance separated room, could understand covered distance weak state little almost without noticing it. concentrated crawling fast could hardly noticed word, cry, family distract him. turn head reached doorway. turn way round felt neck becoming stiff, nonetheless enough see nothing behind changed, sister stood up. last glance saw mother fallen completely asleep. hardly inside room door hurriedly shut, bolted locked. sudden noise behind Gregor startled little legs collapsed him. sister much rush. standing waiting sprung forward lightly, Gregor heard coming all, turned key lock said loudly parents \"At last!\". \"What now, then?\", Gregor asked looked round darkness. soon made discovery could longer move all. surprise him, seemed rather able actually move around spindly little legs unnatural. also felt relatively comfortable. true entire body aching, pain seemed slowly getting weaker weaker would finally disappear altogether. could already hardly feel decayed apple back inflamed area around it, entirely covered white dust. thought back family emotion love. possible, felt must go away even strongly sister. remained state empty peaceful rumination heard clock tower strike three morning. watched slowly began get light everywhere outside window too. Then, without willing it, head sank completely, last breath flowed weakly nostrils. cleaner came early morning - they'd often asked keep slamming doors strength hurry still did, everyone flat knew she'd arrived impossible sleep peace - made usual brief look Gregor first found nothing special. thought laying still purpose, playing martyr; attributed possible understanding him. happened holding long broom hand, tried tickle Gregor doorway. success tried make nuisance poked little, found could shove across floor resistance start pay attention. soon realised really happened, opened eyes wide, whistled herself, waste time yank open bedroom doors shout loudly darkness bedrooms: \"Come 'ave look this, dead, lying there, stone dead!\" Mr. Mrs. Samsa sat upright marriage bed make effort get shock caused cleaner could grasp saying. then, side, hurried bed. Mr. Samsa threw blanket shoulders, Mrs. Samsa came nightdress; went Gregor's room. way opened door living room Grete sleeping since three gentlemen moved in; fully dressed never asleep, paleness face seemed confirm this. \"Dead?\", asked Mrs. Samsa, looking charwoman enquiringly, even though could checked could known even without checking. \"That's said\", replied cleaner, prove gave Gregor's body another shove broom, sending sideways across floor. Mrs. Samsa made movement wanted hold back broom, complete it. \"Now then\", said Mr. Samsa, \"let's give thanks God that\". crossed himself, three women followed example. Grete, taken eyes corpse, said: \"Just look thin was. eat anything long. food came went in\". Gregor's body indeed completely dried flat, seen then, lifted little legs, anything make look away. \"Grete, come us little while\", said Mrs. Samsa pained smile, Grete followed parents bedroom without looking back body. cleaner shut door opened window wide. Although still early morning fresh air something warmth mixed it. already end March, all. three gentlemen stepped room looked round amazement breakfasts; forgotten about. \"Where breakfast?\", middle gentleman asked cleaner irritably. put finger lips made quick silent sign men might like come Gregor's room. so, stood around Gregor's corpse hands pockets well-worn coats. quite light room. door bedroom opened Mr. Samsa appeared uniform wife one arm daughter other. crying little; Grete pressed face father's arm. \"Leave home. Now!\", said Mr. Samsa, indicating door without letting women him. \"What mean?\", asked middle three gentlemen somewhat disconcerted, smiled sweetly. two held hands behind backs continually rubbed together gleeful anticipation loud quarrel could end favour. \"I mean said\", answered Mr. Samsa, and, two companions, went straight line towards man. first, stood still, looking ground contents head rearranging new positions. \"Alright, we'll go then\", said, looked Mr. Samsa suddenly overcome humility wanted permission Mr. Samsa decision. Mr. Samsa merely opened eyes wide briefly nodded several times. that, without delay, man actually take long strides front hallway; two friends stopped rubbing hands time listening said. jumped friend taken sudden fear Mr. Samsa might go hallway front break connection leader. there, three took hats stand, took sticks holder, bowed without word left premises. Mr. Samsa two women followed onto landing; reason mistrust men's intentions leaned landing saw three gentlemen made slow steady progress many steps. turned corner floor disappeared would reappear moments later; went, Samsa family lost interest them; butcher's boy, proud posture tray head, passed way came nearer were, Mr. Samsa women came away landing went, relieved, back flat. decided best way make use day relaxation go walk; earned break work serious need it. sat table wrote three letters excusal, Mr. Samsa employers, Mrs. Samsa contractor Grete principal. cleaner came writing tell going, she'd finished work morning. three first nodded without looking writing, cleaner still seem want leave looked irritation. \"Well?\", asked Mr. Samsa. charwoman stood doorway smile face tremendous good news report, would clearly asked to. almost vertical little ostrich feather hat, source irritation Mr. Samsa time working them, swayed gently directions. \"What want then?\", asked Mrs. Samsa, cleaner respect for. \"Yes\", answered, broke friendly laugh made unable speak straight away, \"well then, thing there, worry going get rid it. That's sorted out.\" Mrs. Samsa Grete bent letters intent continuing writing; Mr. Samsa saw cleaner wanted start describing everything detail but, outstretched hand, made quite clear to. So, prevented telling it, suddenly remembered hurry and, clearly peeved, called \"Cheerio then, everyone\", turned round sharply left, slamming door terribly went. \"Tonight gets sacked\", said Mr. Samsa, received reply either wife daughter charwoman seemed destroyed peace gained. got went window remained arms around other. Mr. Samsa twisted round chair look sat watching while. called out: \"Come here, then. Let's forget old stuff, shall we. Come give bit attention\". two women immediately said, hurrying kissed hugged quickly finished letters. that, three left flat together, something done months, took tram open country outside town. tram, filled warm sunshine, themselves. Leant back comfortably seats, discussed prospects found closer examination bad - never asked work three jobs good held particularly good promise future. greatest improvement time being, course, would achieved quite easily moving house; needed flat smaller cheaper current one chosen Gregor, one better location and, all, practical. time, Grete becoming livelier. worry late cheeks become pale, but, talking, Mr. Mrs. Samsa struck, almost simultaneously, thought daughter blossoming well built beautiful young lady. became quieter. other's glance almost without knowing agreed would soon time find good man her. And, confirmation new dreams good intentions, soon reached destination Grete first get stretch young body.\n"
     ]
    },
    {
     "name": "stderr",
     "output_type": "stream",
     "text": [
      "[nltk_data] Downloading package averaged_perceptron_tagger to\n",
      "[nltk_data]     C:\\Users\\rohan\\AppData\\Roaming\\nltk_data...\n",
      "[nltk_data]   Package averaged_perceptron_tagger is already up-to-\n",
      "[nltk_data]       date!\n",
      "[nltk_data] Downloading package punkt to\n",
      "[nltk_data]     C:\\Users\\rohan\\AppData\\Roaming\\nltk_data...\n",
      "[nltk_data]   Package punkt is already up-to-date!\n"
     ]
    }
   ],
   "source": [
    "import nltk\n",
    "from nltk import sent_tokenize \n",
    "from nltk.corpus import stopwords\n",
    "import nltk\n",
    "from nltk import sent_tokenize, word_tokenize\n",
    "from nltk.corpus import stopwords\n",
    "import nltk\n",
    "nltk.download('averaged_perceptron_tagger')\n",
    "\n",
    "nltk.download('punkt')\n",
    "filename = 'metamorphosis_clean.txt' \n",
    "file=open(filename,'rt') \n",
    "text = file.read() \n",
    "file.close()\n",
    "sentences = sent_tokenize(text) \n",
    "words = word_tokenize(sentences[0]) \n",
    "nltk.pos_tag(words)\n",
    "text_words = text.split() \n",
    "\n",
    "filtered_words = []\n",
    "for word in text_words:\n",
    "    if word.lower() not in en_stops:\n",
    "        filtered_words.append(word)\n",
    "\n",
    "filtered_text = ' '.join(filtered_words)\n",
    "\n",
    "print(stopwords.words('english'))\n",
    "en_stops = set(stopwords.words('english'))\n",
    "\n",
    "print(filtered_text)"
   ]
  },
  {
   "cell_type": "markdown",
   "id": "4b3ba567",
   "metadata": {},
   "source": [
    "#### 3)"
   ]
  },
  {
   "cell_type": "code",
   "execution_count": 9,
   "id": "06623f06",
   "metadata": {},
   "outputs": [
    {
     "name": "stderr",
     "output_type": "stream",
     "text": [
      "[nltk_data] Downloading package conll2000 to\n",
      "[nltk_data]     C:\\Users\\rohan\\AppData\\Roaming\\nltk_data...\n",
      "[nltk_data]   Unzipping corpora\\conll2000.zip.\n"
     ]
    }
   ],
   "source": [
    "#Load the coll2000 corpus, a dataset from the wall street journal.\n",
    "nltk.download('conll2000')\n",
    "from nltk.corpus import conll2000\n"
   ]
  },
  {
   "cell_type": "code",
   "execution_count": 10,
   "id": "143d971e",
   "metadata": {},
   "outputs": [
    {
     "name": "stdout",
     "output_type": "stream",
     "text": [
      "['Confidence', 'in', 'the', 'pound', 'is', 'widely', 'expected', 'to', 'take', 'another', 'sharp', 'dive', 'if', 'trade', 'figures', 'for', 'September', ',', 'due', 'for', 'release', 'tomorrow', ',', 'fail', 'to', 'show', 'a', 'substantial', 'improvement', 'from', 'July', 'and', 'August', \"'s\", 'near-record', 'deficits', '.']\n",
      "['Chancellor', 'of', 'the', 'Exchequer', 'Nigel', 'Lawson', \"'s\", 'restated', 'commitment', 'to', 'a', 'firm', 'monetary', 'policy', 'has', 'helped', 'to', 'prevent', 'a', 'freefall', 'in', 'sterling', 'over', 'the', 'past', 'week', '.']\n",
      "['But', 'analysts', 'reckon', 'underlying', 'support', 'for', 'sterling', 'has', 'been', 'eroded', 'by', 'the', 'chancellor', \"'s\", 'failure', 'to', 'announce', 'any', 'new', 'policy', 'measures', 'in', 'his', 'Mansion', 'House', 'speech', 'last', 'Thursday', '.']\n",
      "['This', 'has', 'increased', 'the', 'risk', 'of', 'the', 'government', 'being', 'forced', 'to', 'increase', 'base', 'rates', 'to', '16', '%', 'from', 'their', 'current', '15', '%', 'level', 'to', 'defend', 'the', 'pound', ',', 'economists', 'and', 'foreign', 'exchange', 'market', 'analysts', 'say', '.']\n",
      "['``', 'The', 'risks', 'for', 'sterling', 'of', 'a', 'bad', 'trade', 'figure', 'are', 'very', 'heavily', 'on', 'the', 'down', 'side', ',', \"''\", 'said', 'Chris', 'Dillow', ',', 'senior', 'U.K.', 'economist', 'at', 'Nomura', 'Research', 'Institute', '.']\n",
      "['``', 'If', 'there', 'is', 'another', 'bad', 'trade', 'number', ',', 'there', 'could', 'be', 'an', 'awful', 'lot', 'of', 'pressure', ',', \"''\", 'noted', 'Simon', 'Briscoe', ',', 'U.K.', 'economist', 'for', 'Midland', 'Montagu', ',', 'a', 'unit', 'of', 'Midland', 'Bank', 'PLC', '.']\n"
     ]
    }
   ],
   "source": [
    "# Display the first six sentences in the conll2000 dataset\n",
    "for i in range(6):\n",
    "    \n",
    "    print(conll2000.sents()[i])"
   ]
  },
  {
   "cell_type": "code",
   "execution_count": 11,
   "id": "d7f2bf0a",
   "metadata": {},
   "outputs": [
    {
     "name": "stdout",
     "output_type": "stream",
     "text": [
      "[('Confidence', 'NN'), ('in', 'IN'), ('the', 'DT'), ('pound', 'NN'), ('is', 'VBZ'), ('widely', 'RB'), ('expected', 'VBN'), ('to', 'TO'), ('take', 'VB'), ('another', 'DT'), ('sharp', 'JJ'), ('dive', 'NN'), ('if', 'IN'), ('trade', 'NN'), ('figures', 'NNS'), ('for', 'IN'), ('September', 'NNP'), (',', ','), ('due', 'JJ'), ('for', 'IN'), ('release', 'NN'), ('tomorrow', 'NN'), (',', ','), ('fail', 'VB'), ('to', 'TO'), ('show', 'VB'), ('a', 'DT'), ('substantial', 'JJ'), ('improvement', 'NN'), ('from', 'IN'), ('July', 'NNP'), ('and', 'CC'), ('August', 'NNP'), (\"'s\", 'POS'), ('near-record', 'JJ'), ('deficits', 'NNS'), ('.', '.')]\n",
      "[('Chancellor', 'NNP'), ('of', 'IN'), ('the', 'DT'), ('Exchequer', 'NNP'), ('Nigel', 'NNP'), ('Lawson', 'NNP'), (\"'s\", 'POS'), ('restated', 'VBN'), ('commitment', 'NN'), ('to', 'TO'), ('a', 'DT'), ('firm', 'NN'), ('monetary', 'JJ'), ('policy', 'NN'), ('has', 'VBZ'), ('helped', 'VBN'), ('to', 'TO'), ('prevent', 'VB'), ('a', 'DT'), ('freefall', 'NN'), ('in', 'IN'), ('sterling', 'NN'), ('over', 'IN'), ('the', 'DT'), ('past', 'JJ'), ('week', 'NN'), ('.', '.')]\n",
      "[('But', 'CC'), ('analysts', 'NNS'), ('reckon', 'VBP'), ('underlying', 'VBG'), ('support', 'NN'), ('for', 'IN'), ('sterling', 'NN'), ('has', 'VBZ'), ('been', 'VBN'), ('eroded', 'VBN'), ('by', 'IN'), ('the', 'DT'), ('chancellor', 'NN'), (\"'s\", 'POS'), ('failure', 'NN'), ('to', 'TO'), ('announce', 'VB'), ('any', 'DT'), ('new', 'JJ'), ('policy', 'NN'), ('measures', 'NNS'), ('in', 'IN'), ('his', 'PRP$'), ('Mansion', 'NNP'), ('House', 'NNP'), ('speech', 'NN'), ('last', 'JJ'), ('Thursday', 'NNP'), ('.', '.')]\n",
      "[('This', 'DT'), ('has', 'VBZ'), ('increased', 'VBN'), ('the', 'DT'), ('risk', 'NN'), ('of', 'IN'), ('the', 'DT'), ('government', 'NN'), ('being', 'VBG'), ('forced', 'VBN'), ('to', 'TO'), ('increase', 'VB'), ('base', 'NN'), ('rates', 'NNS'), ('to', 'TO'), ('16', 'CD'), ('%', 'NN'), ('from', 'IN'), ('their', 'PRP$'), ('current', 'JJ'), ('15', 'CD'), ('%', 'NN'), ('level', 'NN'), ('to', 'TO'), ('defend', 'VB'), ('the', 'DT'), ('pound', 'NN'), (',', ','), ('economists', 'NNS'), ('and', 'CC'), ('foreign', 'JJ'), ('exchange', 'NN'), ('market', 'NN'), ('analysts', 'NNS'), ('say', 'VBP'), ('.', '.')]\n",
      "[('``', '``'), ('The', 'DT'), ('risks', 'NNS'), ('for', 'IN'), ('sterling', 'NN'), ('of', 'IN'), ('a', 'DT'), ('bad', 'JJ'), ('trade', 'NN'), ('figure', 'NN'), ('are', 'VBP'), ('very', 'RB'), ('heavily', 'RB'), ('on', 'IN'), ('the', 'DT'), ('down', 'JJ'), ('side', 'NN'), (',', ','), (\"''\", \"''\"), ('said', 'VBD'), ('Chris', 'NNP'), ('Dillow', 'NNP'), (',', ','), ('senior', 'JJ'), ('U.K.', 'NNP'), ('economist', 'NN'), ('at', 'IN'), ('Nomura', 'NNP'), ('Research', 'NNP'), ('Institute', 'NNP'), ('.', '.')]\n",
      "[('``', '``'), ('If', 'IN'), ('there', 'EX'), ('is', 'VBZ'), ('another', 'DT'), ('bad', 'JJ'), ('trade', 'NN'), ('number', 'NN'), (',', ','), ('there', 'EX'), ('could', 'MD'), ('be', 'VB'), ('an', 'DT'), ('awful', 'JJ'), ('lot', 'NN'), ('of', 'IN'), ('pressure', 'NN'), (',', ','), (\"''\", \"''\"), ('noted', 'VBD'), ('Simon', 'NNP'), ('Briscoe', 'NNP'), (',', ','), ('U.K.', 'NNP'), ('economist', 'NN'), ('for', 'IN'), ('Midland', 'NNP'), ('Montagu', 'NNP'), (',', ','), ('a', 'DT'), ('unit', 'NN'), ('of', 'IN'), ('Midland', 'NNP'), ('Bank', 'NNP'), ('PLC', 'NNP'), ('.', '.')]\n"
     ]
    },
    {
     "name": "stderr",
     "output_type": "stream",
     "text": [
      "[nltk_data] Downloading package conll2000 to\n",
      "[nltk_data]     C:\\Users\\rohan\\AppData\\Roaming\\nltk_data...\n",
      "[nltk_data]   Package conll2000 is already up-to-date!\n"
     ]
    }
   ],
   "source": [
    "import nltk\n",
    "\n",
    "nltk.download('conll2000')\n",
    "\n",
    "from nltk.corpus import conll2000\n",
    "\n",
    "# Tag the first six sentences in the conll2000 dataset\n",
    "for i in range(6):\n",
    "    tagged_sent = conll2000.tagged_sents()[i]\n",
    "    print(tagged_sent)\n"
   ]
  },
  {
   "cell_type": "markdown",
   "id": "2bb9069b",
   "metadata": {},
   "source": [
    "## Partie B"
   ]
  },
  {
   "cell_type": "markdown",
   "id": "b2f3bf43",
   "metadata": {},
   "source": [
    "#### 1)"
   ]
  },
  {
   "cell_type": "code",
   "execution_count": 13,
   "id": "20f35427",
   "metadata": {},
   "outputs": [
    {
     "name": "stderr",
     "output_type": "stream",
     "text": [
      "[nltk_data] Error loading word net: Package 'word net' not found in\n",
      "[nltk_data]     index\n"
     ]
    }
   ],
   "source": [
    "import nltk\n",
    "nltk.download('word net')\n",
    "from nltk.corpus import wordnet\n",
    "from nltk.corpus import wordnet as wn\n",
    "\n"
   ]
  },
  {
   "cell_type": "markdown",
   "id": "9c66ef09",
   "metadata": {},
   "source": [
    "#### 2)"
   ]
  },
  {
   "cell_type": "code",
   "execution_count": 16,
   "id": "9382ccb9",
   "metadata": {},
   "outputs": [
    {
     "name": "stdout",
     "output_type": "stream",
     "text": [
      "Synset('love.n.01')\n",
      "Synset('love.n.02')\n",
      "Synset('beloved.n.01')\n",
      "Synset('love.n.04')\n",
      "Synset('love.n.05')\n",
      "Synset('sexual_love.n.02')\n",
      "Synset('love.v.01')\n",
      "Synset('love.v.02')\n",
      "Synset('love.v.03')\n",
      "Synset('sleep_together.v.01')\n"
     ]
    },
    {
     "name": "stderr",
     "output_type": "stream",
     "text": [
      "[nltk_data] Downloading package wordnet to\n",
      "[nltk_data]     C:\\Users\\rohan\\AppData\\Roaming\\nltk_data...\n",
      "[nltk_data]   Package wordnet is already up-to-date!\n"
     ]
    }
   ],
   "source": [
    "import nltk\n",
    "nltk.download('wordnet')\n",
    "\n",
    "# Get all synsets for the word \"Love\"\n",
    "synsets = wordnet.synsets('love')\n",
    "\n",
    "# Print all the elements of synsets\n",
    "for synset in synsets:\n",
    "    print(synset)"
   ]
  },
  {
   "cell_type": "markdown",
   "id": "92ce43b8",
   "metadata": {},
   "source": [
    "#### On a des synonymes acceptables"
   ]
  },
  {
   "cell_type": "code",
   "execution_count": 17,
   "id": "486a5ff3",
   "metadata": {},
   "outputs": [
    {
     "name": "stdout",
     "output_type": "stream",
     "text": [
      "Definition: a strong positive emotion of regard and affection\n",
      "Lemmas: [Lemma('love.n.01.love')]\n",
      "Examples: ['his love for his work', 'children need a lot of love']\n"
     ]
    }
   ],
   "source": [
    "first_synset = synsets[0]\n",
    "\n",
    "# Use the definition(), lemmas(), and examples() methods\n",
    "print(\"Definition:\", first_synset.definition())\n",
    "print(\"Lemmas:\", first_synset.lemmas())\n",
    "print(\"Examples:\", first_synset.examples())"
   ]
  },
  {
   "cell_type": "markdown",
   "id": "394f4237",
   "metadata": {},
   "source": [
    "#### 4)"
   ]
  },
  {
   "cell_type": "code",
   "execution_count": 18,
   "id": "5dfd70da",
   "metadata": {},
   "outputs": [
    {
     "name": "stdout",
     "output_type": "stream",
     "text": [
      "Synonyms for 'love': ['bang', 'dearest', 'know', 'have_a_go_at_it', 'bed', 'beloved', 'lie_with', 'make_out', 'passion', 'have_sex', 'love_life', 'bonk', 'dear', 'make_love', 'have_intercourse', 'making_love', 'get_laid', 'screw', 'lovemaking', 'get_it_on', 'honey', 'jazz', 'roll_in_the_hay', 'eff', 'sleep_with', 'have_it_off', 'sleep_together', 'fuck', 'enjoy', 'sexual_love', 'do_it', 'have_it_away', 'love', 'erotic_love', 'hump', 'be_intimate']\n",
      "Antonyms for 'love': ['hate']\n"
     ]
    },
    {
     "name": "stderr",
     "output_type": "stream",
     "text": [
      "[nltk_data] Downloading package wordnet to\n",
      "[nltk_data]     C:\\Users\\rohan\\AppData\\Roaming\\nltk_data...\n",
      "[nltk_data]   Package wordnet is already up-to-date!\n"
     ]
    }
   ],
   "source": [
    "import nltk\n",
    "\n",
    "nltk.download('wordnet')\n",
    "\n",
    "from nltk.corpus import wordnet\n",
    "\n",
    "# Get all synsets for the word \"love\"\n",
    "synsets = wordnet.synsets('love')\n",
    "\n",
    "# Initialize lists to store synonyms and antonyms\n",
    "synonyms = []\n",
    "antonyms = []\n",
    "\n",
    "# Iterate over each synset and extract lemmas and their antonyms/synonyms\n",
    "for synset in synsets:\n",
    "    for lemma in synset.lemmas():\n",
    "        # Add synonyms to the list\n",
    "        synonyms.append(lemma.name())\n",
    "\n",
    "        # Iterate over each antonym for the current lemma and add to the antonyms list\n",
    "        for antonym in lemma.antonyms():\n",
    "            antonyms.append(antonym.name())\n",
    "\n",
    "# Remove duplicates from the synonym and antonym lists\n",
    "synonyms = list(set(synonyms))\n",
    "antonyms = list(set(antonyms))\n",
    "\n",
    "# Print the synonyms and antonyms\n",
    "print(\"Synonyms for 'love':\", synonyms)\n",
    "print(\"Antonyms for 'love':\", antonyms)\n"
   ]
  },
  {
   "cell_type": "markdown",
   "id": "e643b736",
   "metadata": {},
   "source": [
    "#### 3)"
   ]
  },
  {
   "cell_type": "code",
   "execution_count": 24,
   "id": "8fb0cbfa",
   "metadata": {},
   "outputs": [
    {
     "name": "stdout",
     "output_type": "stream",
     "text": [
      "Available languages in WordNet: {'arb', 'spa', 'fra', 'slk', 'eng', 'fin', 'als', 'bul', 'por', 'slv', 'ita_iwn', 'cat', 'dan', 'nld', 'tha', 'lit', 'hrv', 'isl', 'nno', 'swe', 'nob', 'cmn', 'eus', 'ell', 'jpn', 'glg', 'zsm', 'heb', 'ron', 'pol', 'ita', 'ind'}\n"
     ]
    },
    {
     "name": "stderr",
     "output_type": "stream",
     "text": [
      "[nltk_data] Downloading package omw-1.4 to\n",
      "[nltk_data]     C:\\Users\\rohan\\AppData\\Roaming\\nltk_data...\n",
      "[nltk_data]   Package omw-1.4 is already up-to-date!\n"
     ]
    }
   ],
   "source": [
    "import nltk\n",
    "nltk.download('omw-1.4')\n",
    "\n",
    "from nltk.corpus import wordnet as wn\n",
    "\n",
    "# Get all languages in WordNet\n",
    "languages = set([lang for lang in wn.langs()])\n",
    "\n",
    "# Print the languages\n",
    "print(\"Available languages in WordNet:\", languages)\n"
   ]
  },
  {
   "cell_type": "markdown",
   "id": "d9cf64d9",
   "metadata": {},
   "source": [
    "#### 4)"
   ]
  },
  {
   "cell_type": "code",
   "execution_count": 28,
   "id": "625ae47c",
   "metadata": {},
   "outputs": [
    {
     "data": {
      "text/plain": [
       "['ラブ',\n",
       " 'ラヴ',\n",
       " '仁愛',\n",
       " '傾慕',\n",
       " '恵愛',\n",
       " '情愛',\n",
       " '愛',\n",
       " '愛しみ',\n",
       " '愛心',\n",
       " '愛念',\n",
       " '愛情',\n",
       " '愛着',\n",
       " '慈',\n",
       " '慈しみ',\n",
       " '慈愛']"
      ]
     },
     "execution_count": 28,
     "metadata": {},
     "output_type": "execute_result"
    }
   ],
   "source": [
    "wn.synset('love.n.01').lemma_names('jpn')"
   ]
  },
  {
   "cell_type": "code",
   "execution_count": 17,
   "id": "8cb76edf",
   "metadata": {},
   "outputs": [
    {
     "name": "stdout",
     "output_type": "stream",
     "text": [
      "Similarity between 'cat' and 'dog':\n",
      "Path Similarity: 0.2\n",
      "Leacock-Chodorow Similarity: 2.0281482472922856\n",
      "Wu-Palmer Similarity: 0.8571428571428571\n",
      "\n",
      "Similarity between 'cat' and 'car':\n",
      "Path Similarity: 0.05555555555555555\n",
      "Leacock-Chodorow Similarity: 0.7472144018302211\n",
      "Wu-Palmer Similarity: 0.32\n",
      "\n",
      "Similarity between 'dog' and 'car':\n",
      "Path Similarity: 0.07692307692307693\n",
      "Leacock-Chodorow Similarity: 1.072636802264849\n",
      "Wu-Palmer Similarity: 0.4\n"
     ]
    }
   ],
   "source": [
    "from nltk.corpus import wordnet as wn\n",
    "# Retrieve synsets for the words \"cat\", \"dog\", and \"car\"\n",
    "cat = wn.synset('cat.n.01')\n",
    "dog = wn.synset('dog.n.01')\n",
    "car = wn.synset('car.n.01')\n",
    "# Compute similarity between all pairs of sets\n",
    "similarity_path = cat.path_similarity(dog)\n",
    "similarity_lch = cat.lch_similarity(dog)\n",
    "similarity_wup = cat.wup_similarity(dog)\n",
    "print(\"Similarity between 'cat' and 'dog':\")\n",
    "print(\"Path Similarity:\", similarity_path)\n",
    "print(\"Leacock-Chodorow Similarity:\", similarity_lch)\n",
    "print(\"Wu-Palmer Similarity:\", similarity_wup)\n",
    "similarity_path = cat.path_similarity(car)\n",
    "similarity_lch = cat.lch_similarity(car)\n",
    "similarity_wup = cat.wup_similarity(car)\n",
    "print(\"\\nSimilarity between 'cat' and 'car':\")\n",
    "print(\"Path Similarity:\", similarity_path)\n",
    "print(\"Leacock-Chodorow Similarity:\", similarity_lch)\n",
    "print(\"Wu-Palmer Similarity:\", similarity_wup)\n",
    "similarity_path = dog.path_similarity(car)\n",
    "similarity_lch = dog.lch_similarity(car)\n",
    "similarity_wup = dog.wup_similarity(car)\n",
    "print(\"\\nSimilarity between 'dog' and 'car':\")\n",
    "print(\"Path Similarity:\", similarity_path)\n",
    "print(\"Leacock-Chodorow Similarity:\", similarity_lch)\n",
    "print(\"Wu-Palmer Similarity:\", similarity_wup)\n"
   ]
  },
  {
   "cell_type": "markdown",
   "id": "c1da343a",
   "metadata": {},
   "source": [
    "#### \n",
    "Dans le cas de \"chat\" et \"chien\", la similarité de chemin est de 0,2, suggérant une similarité modérée basée sur la longueur du chemin le plus court entre les synsets dans la hiérarchie WordNet. La similitude Leacock-Chodorow est\n",
    "2.0281482472922856, indiquant une similarité relativement élevée basée sur la profondeur des synsets dans la hiérarchie WordNet. La similarité Wu-Palmer est de 0,8571428571428571, indiquant une similarité relativement élevée basée sur la\n",
    "profondeur des synsets et de leur ancêtre commun.\n",
    "\n",
    "\n",
    "Pour \"chat\" et \"voiture\", les scores de similarité sont plus faibles. La similarité de chemin est de 0,05555555555555555, indiquant une similarité inférieure basée sur le chemin le plus court. La similarité Leacock-Chodorow est de 0,7472144018302211, suggérant une similarité plus faible basée sur la profondeur des synsets. La similarité Wu-Palmer est de 0,32, indiquant une similarité plus faible basée sur la profondeur et l'ancêtre commun des synsets.\n",
    "De même, pour « chien » et « voiture », les scores de similarité sont également relativement inférieurs au couple « chat » et « chien ». \n",
    "\n",
    "Cela indique que les synsets de \"chien\" et \"voiture\" ont moins de similitudes en fonction de la longueur du chemin, de la profondeur et de l'ancêtre commun\n",
    "dans Word Net."
   ]
  },
  {
   "cell_type": "markdown",
   "id": "e6447674",
   "metadata": {},
   "source": [
    "## Partie C"
   ]
  },
  {
   "cell_type": "markdown",
   "id": "1f4d715d",
   "metadata": {},
   "source": [
    "#### 1)"
   ]
  },
  {
   "cell_type": "code",
   "execution_count": 9,
   "id": "96ee69c2",
   "metadata": {},
   "outputs": [
    {
     "name": "stdout",
     "output_type": "stream",
     "text": [
      "Python is a beautiful high-level, general purpose programming language !\n"
     ]
    }
   ],
   "source": [
    "from textblob import TextBlob\n",
    "\n",
    "Textblob_object = TextBlob( \"Python is a beautiful high-level, general purpose programming language !\")\n",
    "print(Textblob_object)"
   ]
  },
  {
   "cell_type": "code",
   "execution_count": 10,
   "id": "bbae5d6e",
   "metadata": {},
   "outputs": [
    {
     "name": "stdout",
     "output_type": "stream",
     "text": [
      "Word: Python, Tag: NNP\n",
      "Word: is, Tag: VBZ\n",
      "Word: a, Tag: DT\n",
      "Word: beautiful, Tag: JJ\n",
      "Word: high-level, Tag: NN\n",
      "Word: general, Tag: JJ\n",
      "Word: purpose, Tag: NN\n",
      "Word: programming, Tag: VBG\n",
      "Word: language, Tag: NN\n"
     ]
    }
   ],
   "source": [
    "tags = Textblob_object.tags\n",
    "\n",
    "for word, tag in tags:\n",
    "    print(f\"Word: {word}, Tag: {tag}\")"
   ]
  },
  {
   "cell_type": "code",
   "execution_count": 11,
   "id": "10efb97d",
   "metadata": {},
   "outputs": [
    {
     "name": "stderr",
     "output_type": "stream",
     "text": [
      "[nltk_data] Downloading package brown to\n",
      "[nltk_data]     C:\\Users\\rohan\\AppData\\Roaming\\nltk_data...\n",
      "[nltk_data]   Package brown is already up-to-date!\n"
     ]
    },
    {
     "name": "stdout",
     "output_type": "stream",
     "text": [
      "Noun Phrases:\n",
      "python\n",
      "beautiful high-level\n",
      "general purpose\n"
     ]
    }
   ],
   "source": [
    "import nltk\n",
    "nltk.download('brown')\n",
    "noun_phrases = Textblob_object.noun_phrases\n",
    "\n",
    "print(\"Noun Phrases:\")\n",
    "for phrase in noun_phrases:\n",
    "    print(phrase)"
   ]
  },
  {
   "cell_type": "markdown",
   "id": "3e58cb6f",
   "metadata": {},
   "source": [
    "#### 2)"
   ]
  },
  {
   "cell_type": "code",
   "execution_count": 12,
   "id": "19410369",
   "metadata": {},
   "outputs": [
    {
     "name": "stdout",
     "output_type": "stream",
     "text": [
      "Sentiment(polarity=0.8, subjectivity=1.0)\n",
      "Polarity: 0.8\n",
      "Subjectivity: 1.0\n"
     ]
    }
   ],
   "source": [
    "sentence = \"Paris is so beautiful, I like Paris, people are so nice!\"\n",
    "text_blob = TextBlob(sentence)\n",
    "\n",
    "sentiment = text_blob.sentiment\n",
    "print(sentiment)\n",
    "polarity = sentiment.polarity\n",
    "subjectivity = sentiment.subjectivity\n",
    "\n",
    "print(f\"Polarity: {polarity}\")\n",
    "print(f\"Subjectivity: {subjectivity}\")\n"
   ]
  },
  {
   "cell_type": "markdown",
   "id": "5db3c294",
   "metadata": {},
   "source": [
    "#### On a une polarité de 0,8 ce qui veut dire que la phrase est plutôt positive\n",
    "#### On a une subjectivité de 1 ce qui signifie que la phrase est entièrement subjective car elle exprime un opinion personnel"
   ]
  },
  {
   "cell_type": "markdown",
   "id": "5912608b",
   "metadata": {},
   "source": [
    "#### 3 et 4"
   ]
  },
  {
   "cell_type": "code",
   "execution_count": 13,
   "id": "65fda84f",
   "metadata": {},
   "outputs": [],
   "source": [
    "import nltk\n",
    "from textblob import TextBlob\n",
    "\n",
    "\n",
    "\n",
    "text = \"During the Iron Age, what is now metropolitan France was inhabited by the Gauls, a Celtic people. Rome annexed the area in 51 BC, holding it until the arrival of Germanic Franks in 476, who formed the Kingdom of Francia. The Treaty of Verdun of 843 partitioned Francia into East Francia, Middle Francia and West Francia. West Francia, which became the Kingdom of France in 987, emerged as a major European power in the Late Middle Ages, following its victory in the Hundred Years' War (1337\u00151453). During the Renaissance, French culture \u001d",
    "ourished and a global colonial empire was established, which by the 20th century would become the second largest in the world. The 16th century was dominated by religious civil wars between Catholics and Protestants (Huguenots). France became Europe's dominant cultural, political, and military power in the 17th century under Louis XIV. In the late 18th century, the French Revolution overthrew the absolute monarchy, establishing one of modern history's earliest republics and drafting the Declaration of the Rights of Man and of the Citizen, which expresses the nation's ideals to this day.\"\n",
    "text_blob = TextBlob(text)"
   ]
  },
  {
   "cell_type": "code",
   "execution_count": 14,
   "id": "05b0c48e",
   "metadata": {},
   "outputs": [],
   "source": [
    "# Break the text into words\n",
    "words = text_blob.words\n",
    "sentences = text_blob.sentences"
   ]
  },
  {
   "cell_type": "code",
   "execution_count": 15,
   "id": "1c2f8595",
   "metadata": {},
   "outputs": [
    {
     "name": "stdout",
     "output_type": "stream",
     "text": [
      "Sentence: During the Iron Age, what is now metropolitan France was inhabited by the Gauls, a Celtic people.\n",
      "Polarity: 0.0\n",
      "Subjectivity: 0.0\n",
      "\n",
      "Sentence: Rome annexed the area in 51 BC, holding it until the arrival of Germanic Franks in 476, who formed the Kingdom of Francia.\n",
      "Polarity: 0.0\n",
      "Subjectivity: 0.0\n",
      "\n",
      "Sentence: The Treaty of Verdun of 843 partitioned Francia into East Francia, Middle Francia and West Francia.\n",
      "Polarity: 0.0\n",
      "Subjectivity: 0.0\n",
      "\n",
      "Sentence: West Francia, which became the Kingdom of France in 987, emerged as a major European power in the Late Middle Ages, following its victory in the Hundred Years' War (1337\u00151453).\n",
      "Polarity: -0.0475\n",
      "Subjectivity: 0.24000000000000005\n",
      "\n",
      "Sentence: During the Renaissance, French culture \u001d",
      "ourished and a global colonial empire was established, which by the 20th century would become the second largest in the world.\n",
      "Polarity: 0.0\n",
      "Subjectivity: 0.0\n",
      "\n",
      "Sentence: The 16th century was dominated by religious civil wars between Catholics and Protestants (Huguenots).\n",
      "Polarity: 0.0\n",
      "Subjectivity: 0.25\n",
      "\n",
      "Sentence: France became Europe's dominant cultural, political, and military power in the 17th century under Louis XIV.\n",
      "Polarity: 0.0\n",
      "Subjectivity: 0.10000000000000002\n",
      "\n",
      "Sentence: In the late 18th century, the French Revolution overthrew the absolute monarchy, establishing one of modern history's earliest republics and drafting the Declaration of the Rights of Man and of the Citizen, which expresses the nation's ideals to this day.\n",
      "Polarity: 0.02500000000000001\n",
      "Subjectivity: 0.45\n",
      "\n"
     ]
    }
   ],
   "source": [
    "for sentence in sentences:\n",
    "    sentiment = sentence.sentiment\n",
    "    polarity = sentiment.polarity\n",
    "    subjectivity = sentiment.subjectivity\n",
    "    print(f\"Sentence: {sentence}\")\n",
    "    print(f\"Polarity: {polarity}\")  # Sentiment polarity between -1 and 1\n",
    "    print(f\"Subjectivity: {subjectivity}\")  # Subjectivity between 0 and 1\n",
    "    print()"
   ]
  },
  {
   "cell_type": "markdown",
   "id": "18c66ba6",
   "metadata": {},
   "source": [
    "#### 5)"
   ]
  },
  {
   "cell_type": "code",
   "execution_count": 16,
   "id": "3966bc8b",
   "metadata": {},
   "outputs": [
    {
     "name": "stdout",
     "output_type": "stream",
     "text": [
      "Translation to French:\n",
      "Pendant l'âge du fer, ce qui est maintenant métropolitain La France était habitée par les Gaulois, un peuple celtique. Rome a annexé la zone en 51 avant JC, la tenant jusqu'à l'arrivée de Francs germaniques en 476, qui a formé le Royaume de Francia. Le traité de Verdun de 843 a partagé Francia en Francia East, Middle Francia et West Francia. West Francia, qui est devenu le royaume de France en 987, est apparu comme une puissance européenne majeure à la fin du Moyen Âge, après sa victoire dans la guerre des centaines d'années (1337 1453). Pendant la Renaissance, la culture française ouroure et un empire colonial mondial a été établi, qui, au 20e siècle, deviendrait le deuxième plus grand au monde. Le XVIe siècle était dominé par les guerres civiles religieuses entre catholiques et protestants (huguenots). La France est devenue la puissance culturelle, politique et militaire dominante d'Europe au 17ème siècle sous Louis XIV. À la fin du XVIIIe siècle, la Révolution française a renversé la monarchie absolue, établissant l'une des premières républiques de l'histoire moderne et rédigeant la déclaration des droits de l'homme et du citoyen, qui exprime les idéaux de la nation à ce jour.\n"
     ]
    }
   ],
   "source": [
    "import nltk\n",
    "from textblob import TextBlob\n",
    "\n",
    "# Attempt to translate the text into French\n",
    "translation = text_blob.translate(from_lang='en',to='fr')\n",
    "print(\"Translation to French:\")\n",
    "print(translation)\n",
    "\n",
    "\n",
    "    "
   ]
  },
  {
   "cell_type": "markdown",
   "id": "686a4f58",
   "metadata": {},
   "source": [
    "####\n",
    "La traduction est plutôt correcte, on a juste quelques problèmes de ponctuation mais cela est acceptable"
   ]
  },
  {
   "cell_type": "markdown",
   "id": "357b521d",
   "metadata": {},
   "source": [
    "## Partie D"
   ]
  },
  {
   "cell_type": "code",
   "execution_count": 2,
   "id": "7c4c4754",
   "metadata": {},
   "outputs": [],
   "source": [
    "import math\n",
    "from textblob import TextBlob\n",
    "import wikipediaapi\n",
    "import string\n",
    "def tf(word, blobtext):\n",
    "    words = blobtext.words\n",
    "    return words.count(word) / len(words)\n",
    "\n",
    "\n",
    "def n_containing(word, textblob_list):\n",
    "    return sum(1 for blobtext in textblob_list if word in blobtext.words)\n",
    "\n",
    "def idf(word, textblob_list):\n",
    "    return math.log(len(textblob_list) / (1 + n_containing(word, textblob_list)))\n",
    "\n",
    "\n",
    "def tf_idf(word, blobtext, textblob_list):\n",
    "    return tf(word, blobtext) * idf(word, textblob_list)\n",
    "\n",
    "\n",
    "def retrieve_wikipedia_content(page_title):\n",
    "    wiki_wiki = wikipediaapi.Wikipedia('en')\n",
    "    page = wiki_wiki.page(page_title)\n",
    "    if page.exists():\n",
    "        return page.text\n",
    "    else:\n",
    "        return None"
   ]
  },
  {
   "cell_type": "code",
   "execution_count": 3,
   "id": "049a0343",
   "metadata": {},
   "outputs": [
    {
     "name": "stdout",
     "output_type": "stream",
     "text": [
      "\n",
      "\n",
      "\n",
      "\n",
      "– europe (green & dark grey)– european union (green)\n",
      "\n",
      "france (french: [fʁɑ̃s] ), officially french republic (french: république française [ʁepyblik fʁɑ̃sɛz]),[14] country located primarily western europe. also includes overseas regions territories americas atlantic, pacific indian oceans,[xii] giving one largest discontiguous exclusive economic zones world. metropolitan area extends rhine atlantic ocean mediterranean sea english channel north sea; overseas territories include french guiana s\n",
      "\n",
      "\n",
      "sir elton hercules john ch cbe (born reginald kenneth dwight; 25 march 1947[1]) british singer, pianist composer. sold 300 million records worldwide, making one best-selling music artists time,[2] successful solo artist history us billboard charts.[3] acclaimed critics musicians, particularly work 1970s lasting impact music industry, music showmanship significant impact popular music.[4] songwriting partnership lyricist bernie taupin one successful history.[5]\n",
      "\n",
      "john raised pinner suburb london\n",
      "python may refer to:\n",
      "\n",
      "\n",
      "\n",
      "\n",
      "species canini\n",
      "\n",
      "foxes small medium-sized, omnivorous mammals belonging several genera family canidae. flattened skull, upright, triangular ears, pointed, slightly upturned snout, long bushy tail (\"brush\").\n",
      "\n",
      "twelve species belong monophyletic \"true fox\" group genus vulpes. approximately another 25 current extinct species always sometimes called foxes; foxes either part paraphyletic group south american foxes, outlying group, consists bat-eared fox, gray fox, island fox.[1]\n",
      "\n",
      "foxes live every con\n",
      "\n",
      "\n",
      "sir isaac newton frs (25 december 1642 – 20 march 1726/27)[a] english mathematician, physicist, astronomer, alchemist, theologian, author described time natural philosopher. key figure scientific revolution enlightenment followed. pioneering book philosophiæ naturalis principia mathematica (mathematical principles natural philosophy), first published 1687, consolidated many previous results established classical mechanics.[17][18] newton also made seminal contributions optics, shares credit ge\n",
      "\n",
      "\n",
      "zinedine yazid zidane (french: zinédine yazid zidane;[4] born 23 june 1972), popularly known zizou, french professional football manager former player played attacking midfielder. recently coached spanish club real madrid one successful coaches world. widely regarded one greatest players time, zidane playmaker renowned elegance, vision, passing, ball control, technique. received many individual accolades player, including named fifa world player year 1998, 2000 2003, winning 1998 ballon d'or.\n",
      "\n"
     ]
    }
   ],
   "source": [
    "import requests\n",
    "from bs4 import BeautifulSoup\n",
    "from nltk.corpus import stopwords\n",
    "\n",
    "topics = [\"France\", \"Elton John\", \"Python\", \"Fox\", \"Isaac Newton\", \"Zinedine Zidane\"]\n",
    "bloblist = []\n",
    "# Initialize the set of stopwords\n",
    "stop_words = set(stopwords.words(\"english\"))\n",
    "# Retrieve Wikipedia content and create TextBlob objects\n",
    "for topic in topics:\n",
    "    try:\n",
    "        url = f\"https://en.wikipedia.org/wiki/{topic.replace(' ', '_')}\"\n",
    "        response = requests.get(url)\n",
    "        if response.status_code == 200:\n",
    "            soup = BeautifulSoup(response.content, 'html.parser')\n",
    "            content_div = soup.find('div', {'id': 'mw-content-text'})\n",
    "            paragraphs = content_div.find_all('p')\n",
    "            # Find the starting point for processing paragraphs\n",
    "            start_index = 0\n",
    "            for i, paragraph in enumerate(paragraphs):\n",
    "                paragraph_text = paragraph.get_text()\n",
    "                if \"coordinates:\" in paragraph_text.lower():\n",
    "                    start_index = i + 1\n",
    "                    break\n",
    "            cleaned_text = ''\n",
    "            for paragraph in paragraphs[start_index:]:\n",
    "                paragraph_text = paragraph.get_text()\n",
    "                \n",
    "                # Remove stopwords and convert to lowercase\n",
    "                words = [word.lower() for word in paragraph_text.split() if word.lower() not in stop_words]\n",
    "                cleaned_text += \" \".join(words) + \"\\n\\n\" # Add line breaks after each paragraph\n",
    "            bloblist.append(TextBlob(cleaned_text))\n",
    "        else:\n",
    "            print(f\"No Wikipedia page found for '{topic}'\")\n",
    "    except Exception as e:\n",
    "        print(f\"Error retrieving Wikipedia content for '{topic}': {str(e)}\")\n",
    "for blob in bloblist:\n",
    "    # We print only the first 500 , just to have a view => all text is to long to show on a PDF\n",
    "    print(blob[:500])"
   ]
  },
  {
   "cell_type": "code",
   "execution_count": 4,
   "id": "1f0fdd53",
   "metadata": {},
   "outputs": [
    {
     "name": "stdout",
     "output_type": "stream",
     "text": [
      "\n",
      "\n",
      "\n",
      "\n",
      "– europe (green & dark grey)– european union (green)\n",
      "\n",
      "france (french: [fʁɑ̃s] ), officially french republic (french: république française [ʁepyblik fʁɑ̃sɛz]),[14] country located primarily western europe. also includes overseas regions territories americas atlantic, pacific indian oceans,[xii] giving one largest discontiguous exclusive economic zones world. metropolitan area extends rhine atlantic ocean mediterranean sea english channel north sea; overseas territories include french guiana s\n"
     ]
    }
   ],
   "source": [
    "# Merge the list of words from all documents\n",
    "merged_text = \" \".join([str(blob) for blob in bloblist])\n",
    "# We print only the first 500 , just to have a view => all text is to long to show on a PDF\n",
    "print(merged_text[:500])\n",
    "\n"
   ]
  },
  {
   "cell_type": "code",
   "execution_count": 5,
   "id": "996faf42",
   "metadata": {},
   "outputs": [
    {
     "name": "stdout",
     "output_type": "stream",
     "text": [
      "[('union', 0.000367335665979493), ('[fʁɑ̃s]', 0.0), ('european', 0.0003468701479138473), ('(french:', 0.0), ('république', 9.953001346875429e-05), ('[ʁepyblik', 0.0), ('europe', 0.0008326275095535175), ('france', 0.0021748207686661854), ('officially', 9.953001346875429e-05), ('(green)', 0.0), ('française', 0.0001327066846250057), ('(green', 0.0), ('grey)–', 0.0), ('),', 0.0), ('&', 0.0), ('republic', 0.0006698287666219197), ('–', 0.0), ('french', 0.0017343507395692365), ('dark', 3.317667115625143e-05)]\n"
     ]
    }
   ],
   "source": [
    "\n",
    "# Number of words to apply the tfid on (Computing all words take to much time):\n",
    "word_no = 20\n",
    "# Sélection des 10 premiers mots\n",
    "word_list = set(merged_text.split()[:word_no])\n",
    "# Calculation of TF-IDF pour each word in the list\n",
    "tfidf_values = []\n",
    "for word in word_list:\n",
    "    tfidf_value = tf_idf(word, TextBlob(merged_text), bloblist)\n",
    "    tfidf_values.append((word, tfidf_value))\n",
    "print(tfidf_values)"
   ]
  },
  {
   "cell_type": "markdown",
   "id": "05622810",
   "metadata": {},
   "source": [
    "## Partie E"
   ]
  },
  {
   "cell_type": "code",
   "execution_count": 6,
   "id": "ef05508e",
   "metadata": {},
   "outputs": [],
   "source": [
    "#pip install tensorflow"
   ]
  },
  {
   "cell_type": "code",
   "execution_count": 8,
   "id": "ba8fc108",
   "metadata": {},
   "outputs": [
    {
     "name": "stdout",
     "output_type": "stream",
     "text": [
      "['\\n\\n\\n\\n– europe (green & dark grey)– european union (green)\\n\\nfrance (french: [fʁɑ̃s] ), officially french republic (french: république française [ʁepyblik fʁɑ̃sɛz]),[14] country located primarily western europe.', 'also includes overseas regions territories americas atlantic, pacific indian oceans,[xii] giving one largest discontiguous exclusive economic zones world.', 'metropolitan area extends rhine atlantic ocean mediterranean sea english channel north sea; overseas territories include french guiana south america, saint pierre miquelon north atlantic, french west indies, many islands oceania indian ocean.', \"eighteen integral regions (five overseas) span combined area 643,801 km2 (248,573 sq mi) total population 68 million january 2023[update].[5][8] france unitary semi-presidential republic capital paris, country's largest city main cultural commercial centre; major urban areas include marseille, lyon, toulouse, lille, bordeaux, strasbourg nice.\", '\\ninhabited archaic humans since paleolithic era, territory metropolitan france settled iron age celtic tribes known gauls.', 'rome annexed area 51 bc, leading distinct gallo-roman culture laid foundation french language.', 'germanic franks formed kingdom francia, became heartland carolingian empire.', 'treaty verdun 843 partitioned empire, west francia becoming kingdom france 987.', 'high middle ages, france powerful highly decentralised feudal kingdom.', 'philip ii successfully strengthened royal power defeated rivals double size crown lands; end reign, france emerged powerful state europe.']\n",
      "Iteration 0 Loss is: 4.213395\n",
      "Iteration 3000 Loss is: 4.213395\n",
      "Iteration 6000 Loss is: 4.213395\n",
      "Iteration 9000 Loss is: 4.213395\n",
      "Iteration 12000 Loss is: 4.213395\n",
      "Iteration 15000 Loss is: 4.213395\n",
      "Iteration 18000 Loss is: 4.213395\n",
      "[[-0.21683381  1.5088974 ]\n",
      " [-0.06856242  1.5653872 ]\n",
      " [ 0.4309247   0.8938398 ]\n",
      " [ 0.37345392 -1.8913268 ]\n",
      " [-2.6951122  -0.16547608]\n",
      " [-0.75479734 -2.2150908 ]\n",
      " [-0.696381   -0.92956495]\n",
      " [-0.1261874  -0.31610626]\n",
      " [-0.87319595 -0.5467205 ]\n",
      " [ 0.61152256 -0.73716617]\n",
      " [ 0.73924637  1.003551  ]\n",
      " [ 0.7334584   1.740709  ]\n",
      " [ 0.5587982   1.4491415 ]\n",
      " [-0.7167243  -0.01770008]\n",
      " [-2.3680608  -0.6558281 ]\n",
      " [-1.5746284   0.6045742 ]\n",
      " [-0.5651329   1.4057405 ]\n",
      " [-0.3625394  -0.84613585]\n",
      " [ 0.25199944 -0.09889865]]\n"
     ]
    },
    {
     "data": {
      "image/png": "[encoded data removed]",
      "text/plain": [
       "<Figure size 640x480 with 1 Axes>"
      ]
     },
     "metadata": {},
     "output_type": "display_data"
    }
   ],
   "source": [
    "import wikipedia\n",
    "from textblob import TextBlob\n",
    "from nltk import sent_tokenize\n",
    "import pandas as pd\n",
    "import tensorflow as tf\n",
    "import numpy as np\n",
    "import matplotlib.pyplot as plt\n",
    "import re\n",
    "\n",
    "tf.compat.v1.disable_eager_execution()\n",
    "\n",
    "corpus = []\n",
    "sentences_added = 0\n",
    "for blob in bloblist:\n",
    "    sentences = re.split(r'(?<!\\w\\.\\w.)(?<![A-Z][a-z]\\.)(?<=\\.|\\?|\\!)\\s', str(blob))\n",
    "    for sentence in sentences:\n",
    "        corpus.append(sentence)\n",
    "        sentences_added += 1\n",
    "        if sentences_added == 10:\n",
    "            break\n",
    "    if sentences_added == 10:\n",
    "        break\n",
    "\n",
    "print(corpus)\n",
    "\n",
    "def remove_stop_words(corpus):\n",
    "    stop_words = ['is', 'a', 'will', 'be']\n",
    "    results = []\n",
    "    for text in corpus:\n",
    "        tmp = text.split(' ')\n",
    "        for stop_word in stop_words:\n",
    "            if stop_word in tmp:\n",
    "                tmp.remove(stop_word)\n",
    "    results.append(\" \".join(tmp))\n",
    "\n",
    "    return results\n",
    "\n",
    "corpus = remove_stop_words(corpus)\n",
    "\n",
    "words = []\n",
    "for text in corpus:\n",
    "    for word in text.split(' '):\n",
    "        words.append(word)\n",
    "\n",
    "words = set(words)\n",
    "\n",
    "word2int = {}\n",
    "for i, word in enumerate(words):\n",
    "    word2int[word] = i\n",
    "sentences = []\n",
    "\n",
    "for sentence in corpus:\n",
    "    sentences.append(sentence.split())\n",
    "WINDOW_SIZE = 2\n",
    "data = []\n",
    "for sentence in sentences:\n",
    "    for idx, word in enumerate(sentence):\n",
    "        for neighbor in sentence[max(idx - WINDOW_SIZE, 0): min(idx + WINDOW_SIZE, len(sentence)) + 1]:\n",
    "            if neighbor != word:\n",
    "                data.append([word, neighbor])\n",
    "\n",
    "df = pd.DataFrame(data, columns=['input', 'label'])\n",
    "\n",
    "ONE_HOT_DIM = len(words)\n",
    "\n",
    "# Function to convert numbers to one-hot vectors\n",
    "def to_one_hot_encoding(data_point_index):\n",
    "    one_hot_encoding = np.zeros(ONE_HOT_DIM)\n",
    "    one_hot_encoding[data_point_index] = 1\n",
    "    return one_hot_encoding\n",
    "\n",
    "X = [] # Input word\n",
    "Y = [] # Target word\n",
    "\n",
    "for x, y in zip(df['input'], df['label']):\n",
    "    if x in word2int and y in word2int:\n",
    "        X.append(to_one_hot_encoding(word2int[x]))\n",
    "        Y.append(to_one_hot_encoding(word2int[y]))\n",
    "\n",
    "# Convert them to numpy arrays\n",
    "X_train = np.asarray(X)\n",
    "Y_train = np.asarray(Y)\n",
    "\n",
    "# Create inputs for X_train and Y_train\n",
    "x = tf.keras.Input(shape=(ONE_HOT_DIM,), dtype=tf.float32)\n",
    "y_label = tf.keras.Input(shape=(ONE_HOT_DIM,), dtype=tf.float32)\n",
    "\n",
    "# Word embedding will be 2 dimensions for 2D visualization\n",
    "EMBEDDING_DIM = 2\n",
    "\n",
    "# Hidden layer: represents word vectors\n",
    "W1 = tf.Variable(tf.random.normal([ONE_HOT_DIM, EMBEDDING_DIM]))\n",
    "b1 = tf.Variable(tf.random.normal([EMBEDDING_DIM])) # Bias\n",
    "hidden_layer = tf.add(tf.matmul(x, W1), b1)\n",
    "\n",
    "# Output layer\n",
    "W2 = tf.Variable(tf.random.normal([EMBEDDING_DIM, ONE_HOT_DIM]))\n",
    "b2 = tf.Variable(tf.random.normal([ONE_HOT_DIM]))\n",
    "prediction = tf.nn.softmax(tf.add(tf.matmul(hidden_layer, W2), b2))\n",
    "\n",
    "# Loss function: cross entropy\n",
    "loss = tf.reduce_mean(-tf.reduce_sum(y_label * tf.math.log(prediction), axis=[1]))\n",
    "\n",
    "# Training operation\n",
    "optimizer = tf.keras.optimizers.SGD(learning_rate=0.05)\n",
    "# Compute gradients\n",
    "variables = [W1, b1, W2, b2]\n",
    "gradients = tf.gradients(loss, variables)\n",
    "# Apply gradients\n",
    "train_op = optimizer.apply_gradients(zip(gradients, variables))\n",
    "# Initialize variables\n",
    "init = tf.compat.v1.global_variables_initializer()\n",
    "iteration = 20000\n",
    "with tf.compat.v1.Session() as sess:\n",
    "    sess.run(init)\n",
    "    for i in range(iteration):\n",
    "        # Input is X_train (one-hot encoded word)\n",
    "        # Label is Y_train (one-hot encoded neighbor word)\n",
    "        sess.run(train_op, feed_dict={x: X_train, y_label: Y_train})\n",
    "        if i % 3000 == 0:\n",
    "            print('Iteration ' + str(i) + ' Loss is:', sess.run(loss, feed_dict={x: X_train, y_label: Y_train}))\n",
    "    # The hidden layer (W1 + b1) is the word lookup table\n",
    "    vectors = sess.run(W1 + b1)\n",
    "    print(vectors)\n",
    "    w2v_df = pd.DataFrame(vectors, columns=['x1', 'x2'])\n",
    "    w2v_df['word'] = list(words) # Convertir l'ensemble en liste\n",
    "    w2v_df = w2v_df[['word', 'x1', 'x2']]\n",
    "    w2v_df\n",
    "    \n",
    "    \n",
    "import matplotlib.pyplot as plt\n",
    "fig, ax = plt.subplots()\n",
    "for word, x1, x2 in zip(w2v_df['word'], w2v_df['x1'], w2v_df['x2']):\n",
    "    ax.annotate(word, (x1, x2))\n",
    "\n",
    "PADDING = 1.0\n",
    "x_axis_min = np.amin(vectors, axis=0)[0] - PADDING\n",
    "y_axis_min = np.amin(vectors, axis=0)[1] - PADDING\n",
    "x_axis_max = np.amax(vectors, axis=0)[0] + PADDING\n",
    "y_axis_max = np.amax(vectors, axis=0)[1] + PADDING\n",
    "plt.xlim(x_axis_min, x_axis_max)\n",
    "plt.ylim(y_axis_min, y_axis_max)\n",
    "plt.rcParams[\"figure.figsize\"] = (10, 10)\n",
    "# Plot the word vectors\n",
    "ax.scatter(w2v_df['x1'], w2v_df['x2'], marker='o', s=30)\n",
    "plt.show()"
   ]
  },
  {
   "cell_type": "markdown",
   "id": "7d3dcc94",
   "metadata": {},
   "source": [
    "#### On a des mots ayant des sens similaires qui des valeurs proches sur l'axe qui définit la similarité des mots le graphe représente donc assez bien la similarité des mots"
   ]
  },
  {
   "cell_type": "code",
   "execution_count": null,
   "id": "5627f415",
   "metadata": {},
   "outputs": [],
   "source": []
  }
 ],
 "metadata": {
  "kernelspec": {
   "display_name": "Python 3 (ipykernel)",
   "language": "python",
   "name": "python3"
  },
  "language_info": {
   "codemirror_mode": {
    "name": "ipython",
    "version": 3
   },
   "file_extension": ".py",
   "mimetype": "text/x-python",
   "name": "python",
   "nbconvert_exporter": "python",
   "pygments_lexer": "ipython3",
   "version": "3.10.11"
  }
 },
 "nbformat": 4,
 "nbformat_minor": 5
}
